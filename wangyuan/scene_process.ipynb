{
 "cells": [
  {
   "cell_type": "code",
   "execution_count": 1,
   "source": [
    "import pandas as pd\n",
    "import numpy as np\n",
    "\n",
    "java = pd.read_csv('./processed/java_mb_KG.txt',sep='\\t',names=['userid','itemid','oper','timestamp'])\n",
    "java"
   ],
   "outputs": [
    {
     "output_type": "execute_result",
     "data": {
      "text/plain": [
       "      userid  itemid      oper   timestamp\n",
       "0          1     305     watch  1406863244\n",
       "1          1     172      done  1410874261\n",
       "2          1      54      done  1410874265\n",
       "3          1      54  duration  1410874275\n",
       "4          1     314      done  1410913417\n",
       "...      ...     ...       ...         ...\n",
       "2489     183     294      done  1429083169\n",
       "2490     183     294       tag  1429083255\n",
       "2491     183     294  duration  1429083393\n",
       "2492     183     357      done  1429084813\n",
       "2493     183     357  duration  1429085601\n",
       "\n",
       "[2494 rows x 4 columns]"
      ],
      "text/html": [
       "<div>\n",
       "<style scoped>\n",
       "    .dataframe tbody tr th:only-of-type {\n",
       "        vertical-align: middle;\n",
       "    }\n",
       "\n",
       "    .dataframe tbody tr th {\n",
       "        vertical-align: top;\n",
       "    }\n",
       "\n",
       "    .dataframe thead th {\n",
       "        text-align: right;\n",
       "    }\n",
       "</style>\n",
       "<table border=\"1\" class=\"dataframe\">\n",
       "  <thead>\n",
       "    <tr style=\"text-align: right;\">\n",
       "      <th></th>\n",
       "      <th>userid</th>\n",
       "      <th>itemid</th>\n",
       "      <th>oper</th>\n",
       "      <th>timestamp</th>\n",
       "    </tr>\n",
       "  </thead>\n",
       "  <tbody>\n",
       "    <tr>\n",
       "      <th>0</th>\n",
       "      <td>1</td>\n",
       "      <td>305</td>\n",
       "      <td>watch</td>\n",
       "      <td>1406863244</td>\n",
       "    </tr>\n",
       "    <tr>\n",
       "      <th>1</th>\n",
       "      <td>1</td>\n",
       "      <td>172</td>\n",
       "      <td>done</td>\n",
       "      <td>1410874261</td>\n",
       "    </tr>\n",
       "    <tr>\n",
       "      <th>2</th>\n",
       "      <td>1</td>\n",
       "      <td>54</td>\n",
       "      <td>done</td>\n",
       "      <td>1410874265</td>\n",
       "    </tr>\n",
       "    <tr>\n",
       "      <th>3</th>\n",
       "      <td>1</td>\n",
       "      <td>54</td>\n",
       "      <td>duration</td>\n",
       "      <td>1410874275</td>\n",
       "    </tr>\n",
       "    <tr>\n",
       "      <th>4</th>\n",
       "      <td>1</td>\n",
       "      <td>314</td>\n",
       "      <td>done</td>\n",
       "      <td>1410913417</td>\n",
       "    </tr>\n",
       "    <tr>\n",
       "      <th>...</th>\n",
       "      <td>...</td>\n",
       "      <td>...</td>\n",
       "      <td>...</td>\n",
       "      <td>...</td>\n",
       "    </tr>\n",
       "    <tr>\n",
       "      <th>2489</th>\n",
       "      <td>183</td>\n",
       "      <td>294</td>\n",
       "      <td>done</td>\n",
       "      <td>1429083169</td>\n",
       "    </tr>\n",
       "    <tr>\n",
       "      <th>2490</th>\n",
       "      <td>183</td>\n",
       "      <td>294</td>\n",
       "      <td>tag</td>\n",
       "      <td>1429083255</td>\n",
       "    </tr>\n",
       "    <tr>\n",
       "      <th>2491</th>\n",
       "      <td>183</td>\n",
       "      <td>294</td>\n",
       "      <td>duration</td>\n",
       "      <td>1429083393</td>\n",
       "    </tr>\n",
       "    <tr>\n",
       "      <th>2492</th>\n",
       "      <td>183</td>\n",
       "      <td>357</td>\n",
       "      <td>done</td>\n",
       "      <td>1429084813</td>\n",
       "    </tr>\n",
       "    <tr>\n",
       "      <th>2493</th>\n",
       "      <td>183</td>\n",
       "      <td>357</td>\n",
       "      <td>duration</td>\n",
       "      <td>1429085601</td>\n",
       "    </tr>\n",
       "  </tbody>\n",
       "</table>\n",
       "<p>2494 rows × 4 columns</p>\n",
       "</div>"
      ]
     },
     "metadata": {},
     "execution_count": 1
    }
   ],
   "metadata": {}
  },
  {
   "cell_type": "code",
   "execution_count": null,
   "source": [
    "java.boxplot(column='userid', by='timestamp', figsize=(64,64))"
   ],
   "outputs": [],
   "metadata": {}
  },
  {
   "cell_type": "code",
   "execution_count": null,
   "source": [
    "java.plot(kind=\"scatter\",x='timestamp',y='userid',figsize=(32,32))"
   ],
   "outputs": [],
   "metadata": {}
  },
  {
   "cell_type": "code",
   "execution_count": null,
   "source": [
    "java.plot(kind=\"scatter\",x='userid',y='timestamp',figsize=(32,32))"
   ],
   "outputs": [],
   "metadata": {}
  },
  {
   "cell_type": "code",
   "execution_count": 5,
   "source": [
    "import datetime\n",
    "java['time'] = java['timestamp'].apply(lambda x : datetime.datetime.fromtimestamp(x).strftime(\"%Y-%m-%d\"))\n",
    "java"
   ],
   "outputs": [
    {
     "output_type": "execute_result",
     "data": {
      "text/plain": [
       "      userid  itemid      oper   timestamp        time\n",
       "0          1     305     watch  1406863244  2014-08-01\n",
       "1          1     172      done  1410874261  2014-09-16\n",
       "2          1      54      done  1410874265  2014-09-16\n",
       "3          1      54  duration  1410874275  2014-09-16\n",
       "4          1     314      done  1410913417  2014-09-17\n",
       "...      ...     ...       ...         ...         ...\n",
       "2489     183     294      done  1429083169  2015-04-15\n",
       "2490     183     294       tag  1429083255  2015-04-15\n",
       "2491     183     294  duration  1429083393  2015-04-15\n",
       "2492     183     357      done  1429084813  2015-04-15\n",
       "2493     183     357  duration  1429085601  2015-04-15\n",
       "\n",
       "[2494 rows x 5 columns]"
      ],
      "text/html": [
       "<div>\n",
       "<style scoped>\n",
       "    .dataframe tbody tr th:only-of-type {\n",
       "        vertical-align: middle;\n",
       "    }\n",
       "\n",
       "    .dataframe tbody tr th {\n",
       "        vertical-align: top;\n",
       "    }\n",
       "\n",
       "    .dataframe thead th {\n",
       "        text-align: right;\n",
       "    }\n",
       "</style>\n",
       "<table border=\"1\" class=\"dataframe\">\n",
       "  <thead>\n",
       "    <tr style=\"text-align: right;\">\n",
       "      <th></th>\n",
       "      <th>userid</th>\n",
       "      <th>itemid</th>\n",
       "      <th>oper</th>\n",
       "      <th>timestamp</th>\n",
       "      <th>time</th>\n",
       "    </tr>\n",
       "  </thead>\n",
       "  <tbody>\n",
       "    <tr>\n",
       "      <th>0</th>\n",
       "      <td>1</td>\n",
       "      <td>305</td>\n",
       "      <td>watch</td>\n",
       "      <td>1406863244</td>\n",
       "      <td>2014-08-01</td>\n",
       "    </tr>\n",
       "    <tr>\n",
       "      <th>1</th>\n",
       "      <td>1</td>\n",
       "      <td>172</td>\n",
       "      <td>done</td>\n",
       "      <td>1410874261</td>\n",
       "      <td>2014-09-16</td>\n",
       "    </tr>\n",
       "    <tr>\n",
       "      <th>2</th>\n",
       "      <td>1</td>\n",
       "      <td>54</td>\n",
       "      <td>done</td>\n",
       "      <td>1410874265</td>\n",
       "      <td>2014-09-16</td>\n",
       "    </tr>\n",
       "    <tr>\n",
       "      <th>3</th>\n",
       "      <td>1</td>\n",
       "      <td>54</td>\n",
       "      <td>duration</td>\n",
       "      <td>1410874275</td>\n",
       "      <td>2014-09-16</td>\n",
       "    </tr>\n",
       "    <tr>\n",
       "      <th>4</th>\n",
       "      <td>1</td>\n",
       "      <td>314</td>\n",
       "      <td>done</td>\n",
       "      <td>1410913417</td>\n",
       "      <td>2014-09-17</td>\n",
       "    </tr>\n",
       "    <tr>\n",
       "      <th>...</th>\n",
       "      <td>...</td>\n",
       "      <td>...</td>\n",
       "      <td>...</td>\n",
       "      <td>...</td>\n",
       "      <td>...</td>\n",
       "    </tr>\n",
       "    <tr>\n",
       "      <th>2489</th>\n",
       "      <td>183</td>\n",
       "      <td>294</td>\n",
       "      <td>done</td>\n",
       "      <td>1429083169</td>\n",
       "      <td>2015-04-15</td>\n",
       "    </tr>\n",
       "    <tr>\n",
       "      <th>2490</th>\n",
       "      <td>183</td>\n",
       "      <td>294</td>\n",
       "      <td>tag</td>\n",
       "      <td>1429083255</td>\n",
       "      <td>2015-04-15</td>\n",
       "    </tr>\n",
       "    <tr>\n",
       "      <th>2491</th>\n",
       "      <td>183</td>\n",
       "      <td>294</td>\n",
       "      <td>duration</td>\n",
       "      <td>1429083393</td>\n",
       "      <td>2015-04-15</td>\n",
       "    </tr>\n",
       "    <tr>\n",
       "      <th>2492</th>\n",
       "      <td>183</td>\n",
       "      <td>357</td>\n",
       "      <td>done</td>\n",
       "      <td>1429084813</td>\n",
       "      <td>2015-04-15</td>\n",
       "    </tr>\n",
       "    <tr>\n",
       "      <th>2493</th>\n",
       "      <td>183</td>\n",
       "      <td>357</td>\n",
       "      <td>duration</td>\n",
       "      <td>1429085601</td>\n",
       "      <td>2015-04-15</td>\n",
       "    </tr>\n",
       "  </tbody>\n",
       "</table>\n",
       "<p>2494 rows × 5 columns</p>\n",
       "</div>"
      ]
     },
     "metadata": {},
     "execution_count": 5
    }
   ],
   "metadata": {}
  },
  {
   "cell_type": "code",
   "execution_count": 7,
   "source": [
    "java['time_m'] = java['timestamp'].apply(lambda x : datetime.datetime.fromtimestamp(x).strftime(\"%Y-%m\"))"
   ],
   "outputs": [],
   "metadata": {}
  },
  {
   "cell_type": "code",
   "execution_count": 6,
   "source": [
    "java.plot(kind=\"scatter\",x='time',y='userid',figsize=(8,8))"
   ],
   "outputs": [
    {
     "output_type": "execute_result",
     "data": {
      "text/plain": [
       "<AxesSubplot:xlabel='time', ylabel='userid'>"
      ]
     },
     "metadata": {},
     "execution_count": 6
    },
    {
     "output_type": "display_data",
     "data": {
      "text/plain": [
       "<Figure size 576x576 with 1 Axes>"
      ],
      "image/png": "[encoded data removed]"
     },
     "metadata": {
      "needs_background": "light"
     }
    }
   ],
   "metadata": {}
  },
  {
   "cell_type": "code",
   "execution_count": 9,
   "source": [
    "java[java['time_m'].isin(['2014-08','2014-09','2014-10','2014-11','2014-12'])].plot(kind=\"scatter\",x='time_m',y='userid',figsize=(8,8))"
   ],
   "outputs": [
    {
     "output_type": "execute_result",
     "data": {
      "text/plain": [
       "<AxesSubplot:xlabel='time_m', ylabel='userid'>"
      ]
     },
     "metadata": {},
     "execution_count": 9
    },
    {
     "output_type": "display_data",
     "data": {
      "text/plain": [
       "<Figure size 576x576 with 1 Axes>"
      ],
      "image/png": "[encoded data removed]"
     },
     "metadata": {
      "needs_background": "light"
     }
    }
   ],
   "metadata": {}
  },
  {
   "cell_type": "code",
   "execution_count": 10,
   "source": [
    "java[java['time_m'].isin(['2015-01','2015-02','2015-03','2015-04','2015-05'])].plot(kind=\"scatter\",x='time_m',y='userid',figsize=(8,8))"
   ],
   "outputs": [
    {
     "output_type": "execute_result",
     "data": {
      "text/plain": [
       "<AxesSubplot:xlabel='time_m', ylabel='userid'>"
      ]
     },
     "metadata": {},
     "execution_count": 10
    },
    {
     "output_type": "display_data",
     "data": {
      "text/plain": [
       "<Figure size 576x576 with 1 Axes>"
      ],
      "image/png": "[encoded data removed]"
     },
     "metadata": {
      "needs_background": "light"
     }
    }
   ],
   "metadata": {}
  },
  {
   "cell_type": "code",
   "execution_count": 19,
   "source": [
    "num = [java[java['time_m']==x].size for x in ['2014-08','2014-09','2014-10','2014-11','2014-12','2015-01','2015-02','2015-03','2015-04']]\n",
    "num"
   ],
   "outputs": [
    {
     "output_type": "execute_result",
     "data": {
      "text/plain": [
       "[96, 462, 1494, 3966, 1422, 732, 822, 1734, 4236]"
      ]
     },
     "metadata": {},
     "execution_count": 19
    }
   ],
   "metadata": {}
  },
  {
   "cell_type": "code",
   "execution_count": 21,
   "source": [
    "import matplotlib.pyplot as plt\n",
    "\n",
    "x = ['2014-08','2014-09','2014-10','2014-11','2014-12','2015-01','2015-02','2015-03','2015-04']\n",
    "y = num\n",
    "plt.figure(figsize=(8,4))\n",
    "plt.bar(x,y,width=0.5)\n",
    "plt.show()"
   ],
   "outputs": [
    {
     "output_type": "display_data",
     "data": {
      "text/plain": [
       "<Figure size 576x288 with 1 Axes>"
      ],
      "image/png": "[encoded data removed]"
     },
     "metadata": {
      "needs_background": "light"
     }
    }
   ],
   "metadata": {}
  },
  {
   "cell_type": "code",
   "execution_count": 27,
   "source": [
    "java.groupby('userid').count().sort_values(by='itemid')"
   ],
   "outputs": [
    {
     "output_type": "execute_result",
     "data": {
      "text/plain": [
       "        itemid  oper  timestamp  time  time_m\n",
       "userid                                       \n",
       "155          4     4          4     4       4\n",
       "147          4     4          4     4       4\n",
       "152          4     4          4     4       4\n",
       "154          4     4          4     4       4\n",
       "64           4     4          4     4       4\n",
       "...        ...   ...        ...   ...     ...\n",
       "68          65    65         65    65      65\n",
       "95          65    65         65    65      65\n",
       "1           76    76         76    76      76\n",
       "62          83    83         83    83      83\n",
       "88         132   132        132   132     132\n",
       "\n",
       "[183 rows x 5 columns]"
      ],
      "text/html": [
       "<div>\n",
       "<style scoped>\n",
       "    .dataframe tbody tr th:only-of-type {\n",
       "        vertical-align: middle;\n",
       "    }\n",
       "\n",
       "    .dataframe tbody tr th {\n",
       "        vertical-align: top;\n",
       "    }\n",
       "\n",
       "    .dataframe thead th {\n",
       "        text-align: right;\n",
       "    }\n",
       "</style>\n",
       "<table border=\"1\" class=\"dataframe\">\n",
       "  <thead>\n",
       "    <tr style=\"text-align: right;\">\n",
       "      <th></th>\n",
       "      <th>itemid</th>\n",
       "      <th>oper</th>\n",
       "      <th>timestamp</th>\n",
       "      <th>time</th>\n",
       "      <th>time_m</th>\n",
       "    </tr>\n",
       "    <tr>\n",
       "      <th>userid</th>\n",
       "      <th></th>\n",
       "      <th></th>\n",
       "      <th></th>\n",
       "      <th></th>\n",
       "      <th></th>\n",
       "    </tr>\n",
       "  </thead>\n",
       "  <tbody>\n",
       "    <tr>\n",
       "      <th>155</th>\n",
       "      <td>4</td>\n",
       "      <td>4</td>\n",
       "      <td>4</td>\n",
       "      <td>4</td>\n",
       "      <td>4</td>\n",
       "    </tr>\n",
       "    <tr>\n",
       "      <th>147</th>\n",
       "      <td>4</td>\n",
       "      <td>4</td>\n",
       "      <td>4</td>\n",
       "      <td>4</td>\n",
       "      <td>4</td>\n",
       "    </tr>\n",
       "    <tr>\n",
       "      <th>152</th>\n",
       "      <td>4</td>\n",
       "      <td>4</td>\n",
       "      <td>4</td>\n",
       "      <td>4</td>\n",
       "      <td>4</td>\n",
       "    </tr>\n",
       "    <tr>\n",
       "      <th>154</th>\n",
       "      <td>4</td>\n",
       "      <td>4</td>\n",
       "      <td>4</td>\n",
       "      <td>4</td>\n",
       "      <td>4</td>\n",
       "    </tr>\n",
       "    <tr>\n",
       "      <th>64</th>\n",
       "      <td>4</td>\n",
       "      <td>4</td>\n",
       "      <td>4</td>\n",
       "      <td>4</td>\n",
       "      <td>4</td>\n",
       "    </tr>\n",
       "    <tr>\n",
       "      <th>...</th>\n",
       "      <td>...</td>\n",
       "      <td>...</td>\n",
       "      <td>...</td>\n",
       "      <td>...</td>\n",
       "      <td>...</td>\n",
       "    </tr>\n",
       "    <tr>\n",
       "      <th>68</th>\n",
       "      <td>65</td>\n",
       "      <td>65</td>\n",
       "      <td>65</td>\n",
       "      <td>65</td>\n",
       "      <td>65</td>\n",
       "    </tr>\n",
       "    <tr>\n",
       "      <th>95</th>\n",
       "      <td>65</td>\n",
       "      <td>65</td>\n",
       "      <td>65</td>\n",
       "      <td>65</td>\n",
       "      <td>65</td>\n",
       "    </tr>\n",
       "    <tr>\n",
       "      <th>1</th>\n",
       "      <td>76</td>\n",
       "      <td>76</td>\n",
       "      <td>76</td>\n",
       "      <td>76</td>\n",
       "      <td>76</td>\n",
       "    </tr>\n",
       "    <tr>\n",
       "      <th>62</th>\n",
       "      <td>83</td>\n",
       "      <td>83</td>\n",
       "      <td>83</td>\n",
       "      <td>83</td>\n",
       "      <td>83</td>\n",
       "    </tr>\n",
       "    <tr>\n",
       "      <th>88</th>\n",
       "      <td>132</td>\n",
       "      <td>132</td>\n",
       "      <td>132</td>\n",
       "      <td>132</td>\n",
       "      <td>132</td>\n",
       "    </tr>\n",
       "  </tbody>\n",
       "</table>\n",
       "<p>183 rows × 5 columns</p>\n",
       "</div>"
      ]
     },
     "metadata": {},
     "execution_count": 27
    }
   ],
   "metadata": {}
  },
  {
   "cell_type": "code",
   "execution_count": 29,
   "source": [
    "java[java['userid']==1]"
   ],
   "outputs": [
    {
     "output_type": "execute_result",
     "data": {
      "text/plain": [
       "    userid  itemid      oper   timestamp        time   time_m\n",
       "0        1     305     watch  1406863244  2014-08-01  2014-08\n",
       "1        1     172      done  1410874261  2014-09-16  2014-09\n",
       "2        1      54      done  1410874265  2014-09-16  2014-09\n",
       "3        1      54  duration  1410874275  2014-09-16  2014-09\n",
       "4        1     314      done  1410913417  2014-09-17  2014-09\n",
       "..     ...     ...       ...         ...         ...      ...\n",
       "71       1     295  duration  1429522209  2015-04-20  2015-04\n",
       "72       1     294      done  1429522215  2015-04-20  2015-04\n",
       "73       1     297  duration  1429559369  2015-04-21  2015-04\n",
       "74       1     297      done  1429600652  2015-04-21  2015-04\n",
       "75       1       1       tag  1429618603  2015-04-21  2015-04\n",
       "\n",
       "[76 rows x 6 columns]"
      ],
      "text/html": [
       "<div>\n",
       "<style scoped>\n",
       "    .dataframe tbody tr th:only-of-type {\n",
       "        vertical-align: middle;\n",
       "    }\n",
       "\n",
       "    .dataframe tbody tr th {\n",
       "        vertical-align: top;\n",
       "    }\n",
       "\n",
       "    .dataframe thead th {\n",
       "        text-align: right;\n",
       "    }\n",
       "</style>\n",
       "<table border=\"1\" class=\"dataframe\">\n",
       "  <thead>\n",
       "    <tr style=\"text-align: right;\">\n",
       "      <th></th>\n",
       "      <th>userid</th>\n",
       "      <th>itemid</th>\n",
       "      <th>oper</th>\n",
       "      <th>timestamp</th>\n",
       "      <th>time</th>\n",
       "      <th>time_m</th>\n",
       "    </tr>\n",
       "  </thead>\n",
       "  <tbody>\n",
       "    <tr>\n",
       "      <th>0</th>\n",
       "      <td>1</td>\n",
       "      <td>305</td>\n",
       "      <td>watch</td>\n",
       "      <td>1406863244</td>\n",
       "      <td>2014-08-01</td>\n",
       "      <td>2014-08</td>\n",
       "    </tr>\n",
       "    <tr>\n",
       "      <th>1</th>\n",
       "      <td>1</td>\n",
       "      <td>172</td>\n",
       "      <td>done</td>\n",
       "      <td>1410874261</td>\n",
       "      <td>2014-09-16</td>\n",
       "      <td>2014-09</td>\n",
       "    </tr>\n",
       "    <tr>\n",
       "      <th>2</th>\n",
       "      <td>1</td>\n",
       "      <td>54</td>\n",
       "      <td>done</td>\n",
       "      <td>1410874265</td>\n",
       "      <td>2014-09-16</td>\n",
       "      <td>2014-09</td>\n",
       "    </tr>\n",
       "    <tr>\n",
       "      <th>3</th>\n",
       "      <td>1</td>\n",
       "      <td>54</td>\n",
       "      <td>duration</td>\n",
       "      <td>1410874275</td>\n",
       "      <td>2014-09-16</td>\n",
       "      <td>2014-09</td>\n",
       "    </tr>\n",
       "    <tr>\n",
       "      <th>4</th>\n",
       "      <td>1</td>\n",
       "      <td>314</td>\n",
       "      <td>done</td>\n",
       "      <td>1410913417</td>\n",
       "      <td>2014-09-17</td>\n",
       "      <td>2014-09</td>\n",
       "    </tr>\n",
       "    <tr>\n",
       "      <th>...</th>\n",
       "      <td>...</td>\n",
       "      <td>...</td>\n",
       "      <td>...</td>\n",
       "      <td>...</td>\n",
       "      <td>...</td>\n",
       "      <td>...</td>\n",
       "    </tr>\n",
       "    <tr>\n",
       "      <th>71</th>\n",
       "      <td>1</td>\n",
       "      <td>295</td>\n",
       "      <td>duration</td>\n",
       "      <td>1429522209</td>\n",
       "      <td>2015-04-20</td>\n",
       "      <td>2015-04</td>\n",
       "    </tr>\n",
       "    <tr>\n",
       "      <th>72</th>\n",
       "      <td>1</td>\n",
       "      <td>294</td>\n",
       "      <td>done</td>\n",
       "      <td>1429522215</td>\n",
       "      <td>2015-04-20</td>\n",
       "      <td>2015-04</td>\n",
       "    </tr>\n",
       "    <tr>\n",
       "      <th>73</th>\n",
       "      <td>1</td>\n",
       "      <td>297</td>\n",
       "      <td>duration</td>\n",
       "      <td>1429559369</td>\n",
       "      <td>2015-04-21</td>\n",
       "      <td>2015-04</td>\n",
       "    </tr>\n",
       "    <tr>\n",
       "      <th>74</th>\n",
       "      <td>1</td>\n",
       "      <td>297</td>\n",
       "      <td>done</td>\n",
       "      <td>1429600652</td>\n",
       "      <td>2015-04-21</td>\n",
       "      <td>2015-04</td>\n",
       "    </tr>\n",
       "    <tr>\n",
       "      <th>75</th>\n",
       "      <td>1</td>\n",
       "      <td>1</td>\n",
       "      <td>tag</td>\n",
       "      <td>1429618603</td>\n",
       "      <td>2015-04-21</td>\n",
       "      <td>2015-04</td>\n",
       "    </tr>\n",
       "  </tbody>\n",
       "</table>\n",
       "<p>76 rows × 6 columns</p>\n",
       "</div>"
      ]
     },
     "metadata": {},
     "execution_count": 29
    }
   ],
   "metadata": {}
  },
  {
   "cell_type": "code",
   "execution_count": 30,
   "source": [
    "net = pd.read_csv('./processed/net_mb_KG.txt',sep='\\t',names=['userid','itemid','oper','timestamp'])\n",
    "net['time'] = net['timestamp'].apply(lambda x : datetime.datetime.fromtimestamp(x).strftime(\"%Y-%m-%d\"))\n",
    "net['time_m'] = net['timestamp'].apply(lambda x : datetime.datetime.fromtimestamp(x).strftime(\"%Y-%m\"))\n",
    "net"
   ],
   "outputs": [
    {
     "output_type": "execute_result",
     "data": {
      "text/plain": [
       "      userid  itemid   oper   timestamp        time   time_m\n",
       "0          1       1  enter  1413883798  2014-10-21  2014-10\n",
       "1          1       1   done  1413883869  2014-10-21  2014-10\n",
       "2          1       1  watch  1415244162  2014-11-06  2014-11\n",
       "3          1       1    tag  1415330742  2014-11-07  2014-11\n",
       "4          2       1  watch  1414155169  2014-10-24  2014-10\n",
       "...      ...     ...    ...         ...         ...      ...\n",
       "3591     246     285   done  1429539992  2015-04-20  2015-04\n",
       "3592     246     286   done  1429624580  2015-04-21  2015-04\n",
       "3593     246     287    tag  1429753275  2015-04-23  2015-04\n",
       "3594     246       1    tag  1429794648  2015-04-23  2015-04\n",
       "3595     246     287   done  1429794803  2015-04-23  2015-04\n",
       "\n",
       "[3596 rows x 6 columns]"
      ],
      "text/html": [
       "<div>\n",
       "<style scoped>\n",
       "    .dataframe tbody tr th:only-of-type {\n",
       "        vertical-align: middle;\n",
       "    }\n",
       "\n",
       "    .dataframe tbody tr th {\n",
       "        vertical-align: top;\n",
       "    }\n",
       "\n",
       "    .dataframe thead th {\n",
       "        text-align: right;\n",
       "    }\n",
       "</style>\n",
       "<table border=\"1\" class=\"dataframe\">\n",
       "  <thead>\n",
       "    <tr style=\"text-align: right;\">\n",
       "      <th></th>\n",
       "      <th>userid</th>\n",
       "      <th>itemid</th>\n",
       "      <th>oper</th>\n",
       "      <th>timestamp</th>\n",
       "      <th>time</th>\n",
       "      <th>time_m</th>\n",
       "    </tr>\n",
       "  </thead>\n",
       "  <tbody>\n",
       "    <tr>\n",
       "      <th>0</th>\n",
       "      <td>1</td>\n",
       "      <td>1</td>\n",
       "      <td>enter</td>\n",
       "      <td>1413883798</td>\n",
       "      <td>2014-10-21</td>\n",
       "      <td>2014-10</td>\n",
       "    </tr>\n",
       "    <tr>\n",
       "      <th>1</th>\n",
       "      <td>1</td>\n",
       "      <td>1</td>\n",
       "      <td>done</td>\n",
       "      <td>1413883869</td>\n",
       "      <td>2014-10-21</td>\n",
       "      <td>2014-10</td>\n",
       "    </tr>\n",
       "    <tr>\n",
       "      <th>2</th>\n",
       "      <td>1</td>\n",
       "      <td>1</td>\n",
       "      <td>watch</td>\n",
       "      <td>1415244162</td>\n",
       "      <td>2014-11-06</td>\n",
       "      <td>2014-11</td>\n",
       "    </tr>\n",
       "    <tr>\n",
       "      <th>3</th>\n",
       "      <td>1</td>\n",
       "      <td>1</td>\n",
       "      <td>tag</td>\n",
       "      <td>1415330742</td>\n",
       "      <td>2014-11-07</td>\n",
       "      <td>2014-11</td>\n",
       "    </tr>\n",
       "    <tr>\n",
       "      <th>4</th>\n",
       "      <td>2</td>\n",
       "      <td>1</td>\n",
       "      <td>watch</td>\n",
       "      <td>1414155169</td>\n",
       "      <td>2014-10-24</td>\n",
       "      <td>2014-10</td>\n",
       "    </tr>\n",
       "    <tr>\n",
       "      <th>...</th>\n",
       "      <td>...</td>\n",
       "      <td>...</td>\n",
       "      <td>...</td>\n",
       "      <td>...</td>\n",
       "      <td>...</td>\n",
       "      <td>...</td>\n",
       "    </tr>\n",
       "    <tr>\n",
       "      <th>3591</th>\n",
       "      <td>246</td>\n",
       "      <td>285</td>\n",
       "      <td>done</td>\n",
       "      <td>1429539992</td>\n",
       "      <td>2015-04-20</td>\n",
       "      <td>2015-04</td>\n",
       "    </tr>\n",
       "    <tr>\n",
       "      <th>3592</th>\n",
       "      <td>246</td>\n",
       "      <td>286</td>\n",
       "      <td>done</td>\n",
       "      <td>1429624580</td>\n",
       "      <td>2015-04-21</td>\n",
       "      <td>2015-04</td>\n",
       "    </tr>\n",
       "    <tr>\n",
       "      <th>3593</th>\n",
       "      <td>246</td>\n",
       "      <td>287</td>\n",
       "      <td>tag</td>\n",
       "      <td>1429753275</td>\n",
       "      <td>2015-04-23</td>\n",
       "      <td>2015-04</td>\n",
       "    </tr>\n",
       "    <tr>\n",
       "      <th>3594</th>\n",
       "      <td>246</td>\n",
       "      <td>1</td>\n",
       "      <td>tag</td>\n",
       "      <td>1429794648</td>\n",
       "      <td>2015-04-23</td>\n",
       "      <td>2015-04</td>\n",
       "    </tr>\n",
       "    <tr>\n",
       "      <th>3595</th>\n",
       "      <td>246</td>\n",
       "      <td>287</td>\n",
       "      <td>done</td>\n",
       "      <td>1429794803</td>\n",
       "      <td>2015-04-23</td>\n",
       "      <td>2015-04</td>\n",
       "    </tr>\n",
       "  </tbody>\n",
       "</table>\n",
       "<p>3596 rows × 6 columns</p>\n",
       "</div>"
      ]
     },
     "metadata": {},
     "execution_count": 30
    }
   ],
   "metadata": {}
  },
  {
   "cell_type": "code",
   "execution_count": 31,
   "source": [
    "net_num = [net[net['time_m']==x].size for x in ['2014-10','2014-11','2014-12','2015-01','2015-02','2015-03','2015-04']]\n",
    "net_num"
   ],
   "outputs": [
    {
     "output_type": "execute_result",
     "data": {
      "text/plain": [
       "[2310, 4596, 3936, 930, 138, 3168, 6330]"
      ]
     },
     "metadata": {},
     "execution_count": 31
    }
   ],
   "metadata": {}
  },
  {
   "cell_type": "code",
   "execution_count": 32,
   "source": [
    "x = ['2014-10','2014-11','2014-12','2015-01','2015-02','2015-03','2015-04']\n",
    "y = net_num\n",
    "plt.figure(figsize=(8,4))\n",
    "plt.bar(x,y,width=0.5)\n",
    "plt.show()"
   ],
   "outputs": [
    {
     "output_type": "display_data",
     "data": {
      "text/plain": [
       "<Figure size 576x288 with 1 Axes>"
      ],
      "image/png": "[encoded data removed]"
     },
     "metadata": {
      "needs_background": "light"
     }
    }
   ],
   "metadata": {}
  },
  {
   "cell_type": "code",
   "execution_count": 33,
   "source": [
    "os = pd.read_csv('./processed/os_mb_KG.txt',sep='\\t',names=['userid','itemid','oper','timestamp'])\n",
    "os['time'] = os['timestamp'].apply(lambda x : datetime.datetime.fromtimestamp(x).strftime(\"%Y-%m-%d\"))\n",
    "os['time_m'] = os['timestamp'].apply(lambda x : datetime.datetime.fromtimestamp(x).strftime(\"%Y-%m\"))\n",
    "os"
   ],
   "outputs": [
    {
     "output_type": "execute_result",
     "data": {
      "text/plain": [
       "      userid  itemid      oper   timestamp        time   time_m\n",
       "0          1     397       tag  1429497734  2015-04-20  2015-04\n",
       "1          1     428      done  1429497741  2015-04-20  2015-04\n",
       "2          1     429      done  1429497796  2015-04-20  2015-04\n",
       "3          1     417      done  1429497920  2015-04-20  2015-04\n",
       "4          1     428       tag  1429499516  2015-04-20  2015-04\n",
       "...      ...     ...       ...         ...         ...      ...\n",
       "4695     304     476  duration  1428396833  2015-04-07  2015-04\n",
       "4696     305     397       tag  1428674222  2015-04-10  2015-04\n",
       "4697     305     398      done  1428674265  2015-04-10  2015-04\n",
       "4698     305     398  duration  1428677285  2015-04-10  2015-04\n",
       "4699     305     398       tag  1428677286  2015-04-10  2015-04\n",
       "\n",
       "[4700 rows x 6 columns]"
      ],
      "text/html": [
       "<div>\n",
       "<style scoped>\n",
       "    .dataframe tbody tr th:only-of-type {\n",
       "        vertical-align: middle;\n",
       "    }\n",
       "\n",
       "    .dataframe tbody tr th {\n",
       "        vertical-align: top;\n",
       "    }\n",
       "\n",
       "    .dataframe thead th {\n",
       "        text-align: right;\n",
       "    }\n",
       "</style>\n",
       "<table border=\"1\" class=\"dataframe\">\n",
       "  <thead>\n",
       "    <tr style=\"text-align: right;\">\n",
       "      <th></th>\n",
       "      <th>userid</th>\n",
       "      <th>itemid</th>\n",
       "      <th>oper</th>\n",
       "      <th>timestamp</th>\n",
       "      <th>time</th>\n",
       "      <th>time_m</th>\n",
       "    </tr>\n",
       "  </thead>\n",
       "  <tbody>\n",
       "    <tr>\n",
       "      <th>0</th>\n",
       "      <td>1</td>\n",
       "      <td>397</td>\n",
       "      <td>tag</td>\n",
       "      <td>1429497734</td>\n",
       "      <td>2015-04-20</td>\n",
       "      <td>2015-04</td>\n",
       "    </tr>\n",
       "    <tr>\n",
       "      <th>1</th>\n",
       "      <td>1</td>\n",
       "      <td>428</td>\n",
       "      <td>done</td>\n",
       "      <td>1429497741</td>\n",
       "      <td>2015-04-20</td>\n",
       "      <td>2015-04</td>\n",
       "    </tr>\n",
       "    <tr>\n",
       "      <th>2</th>\n",
       "      <td>1</td>\n",
       "      <td>429</td>\n",
       "      <td>done</td>\n",
       "      <td>1429497796</td>\n",
       "      <td>2015-04-20</td>\n",
       "      <td>2015-04</td>\n",
       "    </tr>\n",
       "    <tr>\n",
       "      <th>3</th>\n",
       "      <td>1</td>\n",
       "      <td>417</td>\n",
       "      <td>done</td>\n",
       "      <td>1429497920</td>\n",
       "      <td>2015-04-20</td>\n",
       "      <td>2015-04</td>\n",
       "    </tr>\n",
       "    <tr>\n",
       "      <th>4</th>\n",
       "      <td>1</td>\n",
       "      <td>428</td>\n",
       "      <td>tag</td>\n",
       "      <td>1429499516</td>\n",
       "      <td>2015-04-20</td>\n",
       "      <td>2015-04</td>\n",
       "    </tr>\n",
       "    <tr>\n",
       "      <th>...</th>\n",
       "      <td>...</td>\n",
       "      <td>...</td>\n",
       "      <td>...</td>\n",
       "      <td>...</td>\n",
       "      <td>...</td>\n",
       "      <td>...</td>\n",
       "    </tr>\n",
       "    <tr>\n",
       "      <th>4695</th>\n",
       "      <td>304</td>\n",
       "      <td>476</td>\n",
       "      <td>duration</td>\n",
       "      <td>1428396833</td>\n",
       "      <td>2015-04-07</td>\n",
       "      <td>2015-04</td>\n",
       "    </tr>\n",
       "    <tr>\n",
       "      <th>4696</th>\n",
       "      <td>305</td>\n",
       "      <td>397</td>\n",
       "      <td>tag</td>\n",
       "      <td>1428674222</td>\n",
       "      <td>2015-04-10</td>\n",
       "      <td>2015-04</td>\n",
       "    </tr>\n",
       "    <tr>\n",
       "      <th>4697</th>\n",
       "      <td>305</td>\n",
       "      <td>398</td>\n",
       "      <td>done</td>\n",
       "      <td>1428674265</td>\n",
       "      <td>2015-04-10</td>\n",
       "      <td>2015-04</td>\n",
       "    </tr>\n",
       "    <tr>\n",
       "      <th>4698</th>\n",
       "      <td>305</td>\n",
       "      <td>398</td>\n",
       "      <td>duration</td>\n",
       "      <td>1428677285</td>\n",
       "      <td>2015-04-10</td>\n",
       "      <td>2015-04</td>\n",
       "    </tr>\n",
       "    <tr>\n",
       "      <th>4699</th>\n",
       "      <td>305</td>\n",
       "      <td>398</td>\n",
       "      <td>tag</td>\n",
       "      <td>1428677286</td>\n",
       "      <td>2015-04-10</td>\n",
       "      <td>2015-04</td>\n",
       "    </tr>\n",
       "  </tbody>\n",
       "</table>\n",
       "<p>4700 rows × 6 columns</p>\n",
       "</div>"
      ]
     },
     "metadata": {},
     "execution_count": 33
    }
   ],
   "metadata": {}
  },
  {
   "cell_type": "code",
   "execution_count": 35,
   "source": [
    "os_num = [os[os['time_m']==x].size for x in ['2014-08','2014-09','2014-10','2014-11','2014-12','2015-01','2015-02','2015-03','2015-04']]\n",
    "os_num"
   ],
   "outputs": [
    {
     "output_type": "execute_result",
     "data": {
      "text/plain": [
       "[18, 270, 2244, 5154, 4554, 1128, 666, 5214, 8952]"
      ]
     },
     "metadata": {},
     "execution_count": 35
    }
   ],
   "metadata": {}
  },
  {
   "cell_type": "code",
   "execution_count": 36,
   "source": [
    "x = ['2014-08','2014-09','2014-10','2014-11','2014-12','2015-01','2015-02','2015-03','2015-04']\n",
    "y = os_num\n",
    "plt.figure(figsize=(8,4))\n",
    "plt.bar(x,y,width=0.5)\n",
    "plt.show()"
   ],
   "outputs": [
    {
     "output_type": "display_data",
     "data": {
      "text/plain": [
       "<Figure size 576x288 with 1 Axes>"
      ],
      "image/png": "[encoded data removed]"
     },
     "metadata": {
      "needs_background": "light"
     }
    }
   ],
   "metadata": {}
  },
  {
   "cell_type": "code",
   "execution_count": 37,
   "source": [
    "num"
   ],
   "outputs": [
    {
     "output_type": "execute_result",
     "data": {
      "text/plain": [
       "[96, 462, 1494, 3966, 1422, 732, 822, 1734, 4236]"
      ]
     },
     "metadata": {},
     "execution_count": 37
    }
   ],
   "metadata": {}
  },
  {
   "cell_type": "code",
   "execution_count": 46,
   "source": [
    "java_num_sum = []\n",
    "for i in range(len(num)):\n",
    "    java_num_sum.append(sum(num[:i+1]))\n",
    "java_num_sum"
   ],
   "outputs": [
    {
     "output_type": "execute_result",
     "data": {
      "text/plain": [
       "[96, 558, 2052, 6018, 7440, 8172, 8994, 10728, 14964]"
      ]
     },
     "metadata": {},
     "execution_count": 46
    }
   ],
   "metadata": {}
  },
  {
   "cell_type": "code",
   "execution_count": 48,
   "source": [
    "java_num_p = [x/14964.0 for x in java_num_sum]\n",
    "java_num_p"
   ],
   "outputs": [
    {
     "output_type": "execute_result",
     "data": {
      "text/plain": [
       "[0.006415396952686447,\n",
       " 0.037289494787489975,\n",
       " 0.13712910986367283,\n",
       " 0.40216519647153165,\n",
       " 0.4971932638331997,\n",
       " 0.5461106655974338,\n",
       " 0.6010425020048116,\n",
       " 0.7169206094627105,\n",
       " 1.0]"
      ]
     },
     "metadata": {},
     "execution_count": 48
    }
   ],
   "metadata": {}
  },
  {
   "cell_type": "code",
   "execution_count": 50,
   "source": [
    "x = ['2014-08','2014-09','2014-10','2014-11','2014-12','2015-01','2015-02','2015-03','2015-04']\n",
    "y = java_num_p\n",
    "plt.figure(figsize=(8,4))\n",
    "plt.plot(x,y)\n",
    "plt.show()"
   ],
   "outputs": [
    {
     "output_type": "display_data",
     "data": {
      "text/plain": [
       "<Figure size 576x288 with 1 Axes>"
      ],
      "image/png": "[encoded data removed]"
     },
     "metadata": {
      "needs_background": "light"
     }
    }
   ],
   "metadata": {}
  },
  {
   "cell_type": "code",
   "execution_count": 51,
   "source": [
    "java_num_p2 = [x/14964.0 for x in num]\n",
    "x = ['2014-08','2014-09','2014-10','2014-11','2014-12','2015-01','2015-02','2015-03','2015-04']\n",
    "y = java_num_p2\n",
    "plt.figure(figsize=(8,4))\n",
    "plt.plot(x,y)\n",
    "plt.show()"
   ],
   "outputs": [
    {
     "output_type": "display_data",
     "data": {
      "text/plain": [
       "<Figure size 576x288 with 1 Axes>"
      ],
      "image/png": "[encoded data removed]"
     },
     "metadata": {
      "needs_background": "light"
     }
    }
   ],
   "metadata": {}
  }
 ],
 "metadata": {
  "orig_nbformat": 4,
  "language_info": {
   "name": "python",
   "version": "3.7.11",
   "mimetype": "text/x-python",
   "codemirror_mode": {
    "name": "ipython",
    "version": 3
   },
   "pygments_lexer": "ipython3",
   "nbconvert_exporter": "python",
   "file_extension": ".py"
  },
  "kernelspec": {
   "name": "python3",
   "display_name": "Python 3.7.11 64-bit ('KT_RL': conda)"
  },
  "interpreter": {
   "hash": "21abf45de893cf8bb84fa4ac94ca6bfffd7b0b9430f1af0a3b23bf50880d0935"
  }
 },
 "nbformat": 4,
 "nbformat_minor": 2
}