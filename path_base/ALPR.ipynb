{
 "cells": [
  {
   "cell_type": "code",
   "execution_count": 1,
   "source": [
    "# 深度优先搜索+限制条件\n",
    "class Node:\n",
    "    def __init__(self, idd, label):\n",
    "        self.id = idd\n",
    "        self.label =label\n",
    "        self.neighbours = []\n",
    "\n",
    "class Graph:\n",
    "    def __init__(self):\n",
    "        self.nodes = {}\n",
    "    \n",
    "    def add_node(self, idd, label):\n",
    "        node = Node(idd, label)\n",
    "        self.nodes[idd] = node\n",
    "\n",
    "    def add_edge(self, start_id, end_id):\n",
    "        start_node = self.nodes[start_id]\n",
    "        end_node = self.nodes[end_id]\n",
    "        start_node.neighbours.append(end_node)\n",
    "\n",
    "def build_graph(node_file, relation_file):\n",
    "    nodes = {}\n",
    "    with open(node_file, 'r') as f:\n",
    "        lines = f.readlines()\n",
    "        for line in lines:\n",
    "            idd, label = line.strip().split('\\t')\n",
    "            nodes[idd] = label\n",
    "    relations = []\n",
    "    with open(relation_file, 'r') as f:\n",
    "        lines = f.readlines()\n",
    "        for line in lines:\n",
    "            start_id, end_id, _ = line.strip().split('\\t')\n",
    "            relations.append((start_id, end_id))\n",
    "    graph = Graph()\n",
    "    for idd, label in nodes.items():\n",
    "        graph.add_node(idd, label)\n",
    "    for start_id, end_id in relations:\n",
    "        graph.add_edge(start_id, end_id)\n",
    "    \n",
    "    return graph\n",
    "\n",
    "def dfs(graph, start_id, end_id):\n",
    "    visited = set()\n",
    "    stack = [(graph.nodes[start_id],[])]\n",
    "\n",
    "    while stack:\n",
    "        node, path = stack.pop()\n",
    "        if node.id == end_id:\n",
    "            return path + [node.id]\n",
    "        if node.id not in visited:\n",
    "            visited.add(node.id)\n",
    "            for neighbour in node.neighbours:\n",
    "                stack.append((neighbour, path+[node.id]))\n",
    "    return None\n",
    "    "
   ],
   "outputs": [],
   "metadata": {}
  },
  {
   "cell_type": "code",
   "execution_count": 2,
   "source": [
    "import pandas as pd\n",
    "data = pd.read_csv('KG/java/entity2id.txt',sep='\\t',names=['id','label'])\n",
    "java_dict = dict(zip(data['label'],data['id']))"
   ],
   "outputs": [],
   "metadata": {}
  },
  {
   "cell_type": "code",
   "execution_count": 17,
   "source": [
    "graph = build_graph('KG/java/entity2id.txt', 'KG/java/train.txt')\n",
    "start_id = java_dict[1]\n",
    "end_id = java_dict[5]\n",
    "path = dfs(graph, start_id, end_id)\n",
    "path"
   ],
   "outputs": [
    {
     "output_type": "execute_result",
     "data": {
      "text/plain": [
       "['Java语言', 'Java应用', '网络应用']"
      ]
     },
     "metadata": {},
     "execution_count": 17
    }
   ],
   "metadata": {}
  },
  {
   "cell_type": "code",
   "execution_count": 18,
   "source": [
    "'->'.join(graph.nodes[idd].label for idd in path)"
   ],
   "outputs": [
    {
     "output_type": "execute_result",
     "data": {
      "text/plain": [
       "'1->4->5'"
      ]
     },
     "metadata": {},
     "execution_count": 18
    }
   ],
   "metadata": {}
  },
  {
   "cell_type": "code",
   "execution_count": 19,
   "source": [
    "def cal_p_r(rec_path, true_path):\n",
    "    x = LCS(rec_path,true_path)\n",
    "    r = x*1.0/len(true_path)\n",
    "    p = x*1.0/len(rec_path)\n",
    "    f = (2*p*r)/(p+r+0.0000001)\n",
    "    return p, r, f\n",
    "def LCS(text1, text2):\n",
    "    m, n = len(text1), len(text2)\n",
    "    dp = [0] * (n+1)\n",
    "\n",
    "    for i in range(1, m+1):\n",
    "        dp2 = [0] * (n+1)\n",
    "        for j in range(1, n+1):\n",
    "            if text1[i-1] == text2[j-1]:\n",
    "                dp2[j] = dp[j-1] + 1\n",
    "            else:\n",
    "                dp2[j] = max(dp[j], dp2[j-1])\n",
    "        dp = dp2\n",
    "    \n",
    "    return dp[n]"
   ],
   "outputs": [],
   "metadata": {}
  },
  {
   "cell_type": "code",
   "execution_count": 23,
   "source": [
    "with open('KG/java/java_test_10.csv', 'r') as f:\n",
    "    lines = f.readlines()[1:]\n",
    "    num = len(lines)\n",
    "    all_f = 0\n",
    "    all_p = 0\n",
    "    all_r = 0\n",
    "    for line in lines:\n",
    "        _,inter,_,_,target,true_path = line.strip().split('\\t')\n",
    "        start_id = java_dict[int(inter.strip('[').strip(']').split(',')[-1])]\n",
    "        end_id = java_dict[int(target)]\n",
    "        true_path = true_path.strip('[').strip(']').split(',')\n",
    "        true_path = [int(x) for x in true_path]\n",
    "        pred_path = dfs(graph, start_id, end_id)\n",
    "        if pred_path:\n",
    "            pred_path = [graph.nodes[idd].label for idd in path]\n",
    "            #print(pred_path)\n",
    "            #print(true_path)\n",
    "            p,r,f = cal_p_r(pred_path,true_path)\n",
    "            all_p += p\n",
    "            all_r += r\n",
    "            all_f += f\n",
    "    print(\"precision: \",all_p/num,\" recall: \",all_r/num, \" f1 score: \",all_f/num)"
   ],
   "outputs": [
    {
     "output_type": "stream",
     "name": "stdout",
     "text": [
      "precision:  0.0  recall:  0.0  f1 score:  0.0\n"
     ]
    }
   ],
   "metadata": {}
  }
 ],
 "metadata": {
  "orig_nbformat": 4,
  "language_info": {
   "name": "python",
   "version": "3.9.7",
   "mimetype": "text/x-python",
   "codemirror_mode": {
    "name": "ipython",
    "version": 3
   },
   "pygments_lexer": "ipython3",
   "nbconvert_exporter": "python",
   "file_extension": ".py"
  },
  "kernelspec": {
   "name": "python3",
   "display_name": "Python 3.9.7 64-bit ('base': conda)"
  },
  "interpreter": {
   "hash": "d47defed22da33e0314abd5582877298266e5691cc62839a5a7dae1d6cc5ac5c"
  }
 },
 "nbformat": 4,
 "nbformat_minor": 2
}