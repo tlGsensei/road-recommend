{
 "cells": [
  {
   "cell_type": "code",
   "execution_count": 51,
   "source": [
    "import pandas as pd\n",
    "import numpy as np\n",
    "\n",
    "java = pd.read_csv('../java_mb_KG.txt',names=['user','item','behavior','time'], sep='\\t')\n",
    "java"
   ],
   "outputs": [
    {
     "output_type": "execute_result",
     "data": {
      "text/plain": [
       "      user  item  behavior        time\n",
       "0        1   305     watch  1406863244\n",
       "1        1   172      done  1410874261\n",
       "2        1    54      done  1410874265\n",
       "3        1    54  duration  1410874275\n",
       "4        1   314      done  1410913417\n",
       "...    ...   ...       ...         ...\n",
       "2489   183   294      done  1429083169\n",
       "2490   183   294       tag  1429083255\n",
       "2491   183   294  duration  1429083393\n",
       "2492   183   357      done  1429084813\n",
       "2493   183   357  duration  1429085601\n",
       "\n",
       "[2494 rows x 4 columns]"
      ],
      "text/html": [
       "<div>\n",
       "<style scoped>\n",
       "    .dataframe tbody tr th:only-of-type {\n",
       "        vertical-align: middle;\n",
       "    }\n",
       "\n",
       "    .dataframe tbody tr th {\n",
       "        vertical-align: top;\n",
       "    }\n",
       "\n",
       "    .dataframe thead th {\n",
       "        text-align: right;\n",
       "    }\n",
       "</style>\n",
       "<table border=\"1\" class=\"dataframe\">\n",
       "  <thead>\n",
       "    <tr style=\"text-align: right;\">\n",
       "      <th></th>\n",
       "      <th>user</th>\n",
       "      <th>item</th>\n",
       "      <th>behavior</th>\n",
       "      <th>time</th>\n",
       "    </tr>\n",
       "  </thead>\n",
       "  <tbody>\n",
       "    <tr>\n",
       "      <th>0</th>\n",
       "      <td>1</td>\n",
       "      <td>305</td>\n",
       "      <td>watch</td>\n",
       "      <td>1406863244</td>\n",
       "    </tr>\n",
       "    <tr>\n",
       "      <th>1</th>\n",
       "      <td>1</td>\n",
       "      <td>172</td>\n",
       "      <td>done</td>\n",
       "      <td>1410874261</td>\n",
       "    </tr>\n",
       "    <tr>\n",
       "      <th>2</th>\n",
       "      <td>1</td>\n",
       "      <td>54</td>\n",
       "      <td>done</td>\n",
       "      <td>1410874265</td>\n",
       "    </tr>\n",
       "    <tr>\n",
       "      <th>3</th>\n",
       "      <td>1</td>\n",
       "      <td>54</td>\n",
       "      <td>duration</td>\n",
       "      <td>1410874275</td>\n",
       "    </tr>\n",
       "    <tr>\n",
       "      <th>4</th>\n",
       "      <td>1</td>\n",
       "      <td>314</td>\n",
       "      <td>done</td>\n",
       "      <td>1410913417</td>\n",
       "    </tr>\n",
       "    <tr>\n",
       "      <th>...</th>\n",
       "      <td>...</td>\n",
       "      <td>...</td>\n",
       "      <td>...</td>\n",
       "      <td>...</td>\n",
       "    </tr>\n",
       "    <tr>\n",
       "      <th>2489</th>\n",
       "      <td>183</td>\n",
       "      <td>294</td>\n",
       "      <td>done</td>\n",
       "      <td>1429083169</td>\n",
       "    </tr>\n",
       "    <tr>\n",
       "      <th>2490</th>\n",
       "      <td>183</td>\n",
       "      <td>294</td>\n",
       "      <td>tag</td>\n",
       "      <td>1429083255</td>\n",
       "    </tr>\n",
       "    <tr>\n",
       "      <th>2491</th>\n",
       "      <td>183</td>\n",
       "      <td>294</td>\n",
       "      <td>duration</td>\n",
       "      <td>1429083393</td>\n",
       "    </tr>\n",
       "    <tr>\n",
       "      <th>2492</th>\n",
       "      <td>183</td>\n",
       "      <td>357</td>\n",
       "      <td>done</td>\n",
       "      <td>1429084813</td>\n",
       "    </tr>\n",
       "    <tr>\n",
       "      <th>2493</th>\n",
       "      <td>183</td>\n",
       "      <td>357</td>\n",
       "      <td>duration</td>\n",
       "      <td>1429085601</td>\n",
       "    </tr>\n",
       "  </tbody>\n",
       "</table>\n",
       "<p>2494 rows × 4 columns</p>\n",
       "</div>"
      ]
     },
     "metadata": {},
     "execution_count": 51
    }
   ],
   "metadata": {}
  },
  {
   "cell_type": "code",
   "execution_count": 91,
   "source": [
    "class user:\n",
    "    def __init__(self, user_id) -> None:\n",
    "        self.sequence = []\n",
    "        self.behavior = []\n",
    "        self.timestamp = []\n",
    "        self.user = user_id\n",
    "    \n",
    "    def get_seq_len(self):\n",
    "        return len(self.sequence)\n",
    "\n",
    "    def get_seq_part(self,i):\n",
    "        self.length = self.get_seq_len()\n",
    "        if i>self.length:\n",
    "            return self.sequence\n",
    "        else:\n",
    "            return self.sequence[:i]\n",
    "\n",
    "    def add_seq(self,data):\n",
    "        self.sequence.append(data['item'])\n",
    "        self.behavior.append(data['behavior'])\n",
    "        self.timestamp.append(data['time'])\n",
    "\n",
    "    def find(self,x):\n",
    "        if x in self.sequence:\n",
    "            t = self.sequence.index(x)\n",
    "            return t+1\n",
    "        else:\n",
    "            return -1\n",
    "\n",
    "    def set_user(self, user_id, seq, beh, t):\n",
    "        self.user = user_id\n",
    "        self.sequence = seq\n",
    "        self.behavior = beh\n",
    "        self.timestamp = t\n",
    "\n",
    "u = []\n",
    "for i in range(184):\n",
    "    tmp = user(i)\n",
    "    u.append(tmp)\n",
    "\n",
    "temp = 0\n",
    "for index, row in java.iterrows():\n",
    "    u[row['user']].add_seq(row)\n",
    "\n"
   ],
   "outputs": [],
   "metadata": {}
  },
  {
   "cell_type": "code",
   "execution_count": 75,
   "source": [
    "len(u)"
   ],
   "outputs": [
    {
     "output_type": "execute_result",
     "data": {
      "text/plain": [
       "184"
      ]
     },
     "metadata": {},
     "execution_count": 75
    }
   ],
   "metadata": {}
  },
  {
   "cell_type": "code",
   "execution_count": 76,
   "source": [
    "u[1].get_seq_len()"
   ],
   "outputs": [
    {
     "output_type": "execute_result",
     "data": {
      "text/plain": [
       "76"
      ]
     },
     "metadata": {},
     "execution_count": 76
    }
   ],
   "metadata": {}
  },
  {
   "cell_type": "code",
   "execution_count": 92,
   "source": [
    "res = []\n",
    "for i in range(184):\n",
    "    res.append(u[i].sequence)"
   ],
   "outputs": [],
   "metadata": {}
  },
  {
   "cell_type": "code",
   "execution_count": 93,
   "source": [
    "length = []\n",
    "for s in res:\n",
    "    length.append(len(s))\n",
    "print(min(length),np.average(length),max(length))"
   ],
   "outputs": [
    {
     "output_type": "stream",
     "name": "stdout",
     "text": [
      "0 13.554347826086957 132\n"
     ]
    }
   ],
   "metadata": {}
  },
  {
   "cell_type": "code",
   "execution_count": 94,
   "source": [
    "java2 = java.to_numpy()\n",
    "java2"
   ],
   "outputs": [
    {
     "output_type": "execute_result",
     "data": {
      "text/plain": [
       "array([[1, 305, 'watch', 1406863244],\n",
       "       [1, 172, 'done', 1410874261],\n",
       "       [1, 54, 'done', 1410874265],\n",
       "       ...,\n",
       "       [183, 294, 'duration', 1429083393],\n",
       "       [183, 357, 'done', 1429084813],\n",
       "       [183, 357, 'duration', 1429085601]], dtype=object)"
      ]
     },
     "metadata": {},
     "execution_count": 94
    }
   ],
   "metadata": {}
  },
  {
   "cell_type": "code",
   "execution_count": 95,
   "source": [
    "import random\n",
    "\n",
    "enhance = []\n",
    "u2_list = []\n",
    "i=184\n",
    "for _ in range(50):\n",
    "    t1 = random.randint(1,183)\n",
    "    t2 = random.randint(1,183)\n",
    "    u1 = u[t1]\n",
    "    #print(u1.user, u1.get_seq_len())\n",
    "    u2 = u[t2]\n",
    "    u1_len = u1.get_seq_len()\n",
    "    k1 = random.randint(1,u1_len-1)\n",
    "    x = u1.sequence[k1]\n",
    "    flag = u2.find(x)\n",
    "    #print(flag)\n",
    "    flag_time = u1.timestamp[k1]\n",
    "    if flag>0:\n",
    "        new = u1.sequence[:k1]+u2.sequence[flag:]\n",
    "        beh = u1.behavior[:k1]+u2.behavior[flag:]\n",
    "        tt = [xx + abs(flag_time - u2.timestamp[flag]) for xx in u2.timestamp[flag:]]\n",
    "        t = u1.timestamp[:k1]+tt\n",
    "        if len(new)>3:\n",
    "            us = user(i)\n",
    "            us.set_user(i, new, beh, t)\n",
    "            enhance.append(new)\n",
    "            u2_list.append(us)\n",
    "            i+=1\n",
    "\n",
    "for x in enhance:\n",
    "    print(len(x))"
   ],
   "outputs": [
    {
     "output_type": "stream",
     "name": "stdout",
     "text": [
      "6\n",
      "6\n",
      "12\n",
      "10\n",
      "5\n",
      "6\n",
      "5\n",
      "7\n",
      "7\n",
      "4\n",
      "17\n",
      "20\n",
      "11\n",
      "8\n",
      "13\n",
      "14\n",
      "5\n",
      "5\n",
      "4\n",
      "5\n",
      "5\n",
      "4\n",
      "4\n",
      "5\n"
     ]
    }
   ],
   "metadata": {}
  },
  {
   "cell_type": "code",
   "execution_count": 96,
   "source": [
    "# 以上为随机拼接\n",
    "new_res = []\n",
    "def gen_new(u):\n",
    "    length = u.get_seq_len()\n",
    "    for i in range(length):\n",
    "        tmp = [u.user, u.sequence[i], u.behavior[i], u.timestamp[i]]\n",
    "        new_res.append(tmp)\n",
    "for u_i in u2_list:\n",
    "    gen_new(u_i)\n",
    "\n",
    "new_res = np.array(new_res)"
   ],
   "outputs": [],
   "metadata": {}
  },
  {
   "cell_type": "code",
   "execution_count": 98,
   "source": [
    "new_java = np.concatenate((java2, new_res), axis=0)\n",
    "new_java"
   ],
   "outputs": [
    {
     "output_type": "execute_result",
     "data": {
      "text/plain": [
       "array([[1, 305, 'watch', 1406863244],\n",
       "       [1, 172, 'done', 1410874261],\n",
       "       [1, 54, 'done', 1410874265],\n",
       "       ...,\n",
       "       ['207', '363', 'done', '1416467318'],\n",
       "       ['207', '301', 'done', '1434998988'],\n",
       "       ['207', '301', 'duration', '1435000153']], dtype=object)"
      ]
     },
     "metadata": {},
     "execution_count": 98
    }
   ],
   "metadata": {}
  },
  {
   "cell_type": "code",
   "execution_count": 99,
   "source": [
    "new_java2 = pd.DataFrame(new_java)\n",
    "new_java2"
   ],
   "outputs": [
    {
     "output_type": "execute_result",
     "data": {
      "text/plain": [
       "        0    1         2           3\n",
       "0       1  305     watch  1406863244\n",
       "1       1  172      done  1410874261\n",
       "2       1   54      done  1410874265\n",
       "3       1   54  duration  1410874275\n",
       "4       1  314      done  1410913417\n",
       "...   ...  ...       ...         ...\n",
       "2677  207    1       tag  1416276708\n",
       "2678  207  363     enter  1416467310\n",
       "2679  207  363      done  1416467318\n",
       "2680  207  301      done  1434998988\n",
       "2681  207  301  duration  1435000153\n",
       "\n",
       "[2682 rows x 4 columns]"
      ],
      "text/html": [
       "<div>\n",
       "<style scoped>\n",
       "    .dataframe tbody tr th:only-of-type {\n",
       "        vertical-align: middle;\n",
       "    }\n",
       "\n",
       "    .dataframe tbody tr th {\n",
       "        vertical-align: top;\n",
       "    }\n",
       "\n",
       "    .dataframe thead th {\n",
       "        text-align: right;\n",
       "    }\n",
       "</style>\n",
       "<table border=\"1\" class=\"dataframe\">\n",
       "  <thead>\n",
       "    <tr style=\"text-align: right;\">\n",
       "      <th></th>\n",
       "      <th>0</th>\n",
       "      <th>1</th>\n",
       "      <th>2</th>\n",
       "      <th>3</th>\n",
       "    </tr>\n",
       "  </thead>\n",
       "  <tbody>\n",
       "    <tr>\n",
       "      <th>0</th>\n",
       "      <td>1</td>\n",
       "      <td>305</td>\n",
       "      <td>watch</td>\n",
       "      <td>1406863244</td>\n",
       "    </tr>\n",
       "    <tr>\n",
       "      <th>1</th>\n",
       "      <td>1</td>\n",
       "      <td>172</td>\n",
       "      <td>done</td>\n",
       "      <td>1410874261</td>\n",
       "    </tr>\n",
       "    <tr>\n",
       "      <th>2</th>\n",
       "      <td>1</td>\n",
       "      <td>54</td>\n",
       "      <td>done</td>\n",
       "      <td>1410874265</td>\n",
       "    </tr>\n",
       "    <tr>\n",
       "      <th>3</th>\n",
       "      <td>1</td>\n",
       "      <td>54</td>\n",
       "      <td>duration</td>\n",
       "      <td>1410874275</td>\n",
       "    </tr>\n",
       "    <tr>\n",
       "      <th>4</th>\n",
       "      <td>1</td>\n",
       "      <td>314</td>\n",
       "      <td>done</td>\n",
       "      <td>1410913417</td>\n",
       "    </tr>\n",
       "    <tr>\n",
       "      <th>...</th>\n",
       "      <td>...</td>\n",
       "      <td>...</td>\n",
       "      <td>...</td>\n",
       "      <td>...</td>\n",
       "    </tr>\n",
       "    <tr>\n",
       "      <th>2677</th>\n",
       "      <td>207</td>\n",
       "      <td>1</td>\n",
       "      <td>tag</td>\n",
       "      <td>1416276708</td>\n",
       "    </tr>\n",
       "    <tr>\n",
       "      <th>2678</th>\n",
       "      <td>207</td>\n",
       "      <td>363</td>\n",
       "      <td>enter</td>\n",
       "      <td>1416467310</td>\n",
       "    </tr>\n",
       "    <tr>\n",
       "      <th>2679</th>\n",
       "      <td>207</td>\n",
       "      <td>363</td>\n",
       "      <td>done</td>\n",
       "      <td>1416467318</td>\n",
       "    </tr>\n",
       "    <tr>\n",
       "      <th>2680</th>\n",
       "      <td>207</td>\n",
       "      <td>301</td>\n",
       "      <td>done</td>\n",
       "      <td>1434998988</td>\n",
       "    </tr>\n",
       "    <tr>\n",
       "      <th>2681</th>\n",
       "      <td>207</td>\n",
       "      <td>301</td>\n",
       "      <td>duration</td>\n",
       "      <td>1435000153</td>\n",
       "    </tr>\n",
       "  </tbody>\n",
       "</table>\n",
       "<p>2682 rows × 4 columns</p>\n",
       "</div>"
      ]
     },
     "metadata": {},
     "execution_count": 99
    }
   ],
   "metadata": {}
  },
  {
   "cell_type": "code",
   "execution_count": 100,
   "source": [
    "new_java2.to_csv('java_mb_KG_e1.txt', sep = '\\t', index=False, header=None)"
   ],
   "outputs": [],
   "metadata": {}
  },
  {
   "cell_type": "code",
   "execution_count": 1,
   "source": [
    "import pandas as pd\n",
    "import numpy as np\n",
    "\n",
    "os = pd.read_csv('../os_mb_KG.txt',names=['user','item','behavior','time'], sep='\\t')\n",
    "os"
   ],
   "outputs": [
    {
     "output_type": "execute_result",
     "data": {
      "text/plain": [
       "      user  item  behavior        time\n",
       "0        1   397       tag  1429497734\n",
       "1        1   428      done  1429497741\n",
       "2        1   429      done  1429497796\n",
       "3        1   417      done  1429497920\n",
       "4        1   428       tag  1429499516\n",
       "...    ...   ...       ...         ...\n",
       "4695   304   476  duration  1428396833\n",
       "4696   305   397       tag  1428674222\n",
       "4697   305   398      done  1428674265\n",
       "4698   305   398  duration  1428677285\n",
       "4699   305   398       tag  1428677286\n",
       "\n",
       "[4700 rows x 4 columns]"
      ],
      "text/html": [
       "<div>\n",
       "<style scoped>\n",
       "    .dataframe tbody tr th:only-of-type {\n",
       "        vertical-align: middle;\n",
       "    }\n",
       "\n",
       "    .dataframe tbody tr th {\n",
       "        vertical-align: top;\n",
       "    }\n",
       "\n",
       "    .dataframe thead th {\n",
       "        text-align: right;\n",
       "    }\n",
       "</style>\n",
       "<table border=\"1\" class=\"dataframe\">\n",
       "  <thead>\n",
       "    <tr style=\"text-align: right;\">\n",
       "      <th></th>\n",
       "      <th>user</th>\n",
       "      <th>item</th>\n",
       "      <th>behavior</th>\n",
       "      <th>time</th>\n",
       "    </tr>\n",
       "  </thead>\n",
       "  <tbody>\n",
       "    <tr>\n",
       "      <th>0</th>\n",
       "      <td>1</td>\n",
       "      <td>397</td>\n",
       "      <td>tag</td>\n",
       "      <td>1429497734</td>\n",
       "    </tr>\n",
       "    <tr>\n",
       "      <th>1</th>\n",
       "      <td>1</td>\n",
       "      <td>428</td>\n",
       "      <td>done</td>\n",
       "      <td>1429497741</td>\n",
       "    </tr>\n",
       "    <tr>\n",
       "      <th>2</th>\n",
       "      <td>1</td>\n",
       "      <td>429</td>\n",
       "      <td>done</td>\n",
       "      <td>1429497796</td>\n",
       "    </tr>\n",
       "    <tr>\n",
       "      <th>3</th>\n",
       "      <td>1</td>\n",
       "      <td>417</td>\n",
       "      <td>done</td>\n",
       "      <td>1429497920</td>\n",
       "    </tr>\n",
       "    <tr>\n",
       "      <th>4</th>\n",
       "      <td>1</td>\n",
       "      <td>428</td>\n",
       "      <td>tag</td>\n",
       "      <td>1429499516</td>\n",
       "    </tr>\n",
       "    <tr>\n",
       "      <th>...</th>\n",
       "      <td>...</td>\n",
       "      <td>...</td>\n",
       "      <td>...</td>\n",
       "      <td>...</td>\n",
       "    </tr>\n",
       "    <tr>\n",
       "      <th>4695</th>\n",
       "      <td>304</td>\n",
       "      <td>476</td>\n",
       "      <td>duration</td>\n",
       "      <td>1428396833</td>\n",
       "    </tr>\n",
       "    <tr>\n",
       "      <th>4696</th>\n",
       "      <td>305</td>\n",
       "      <td>397</td>\n",
       "      <td>tag</td>\n",
       "      <td>1428674222</td>\n",
       "    </tr>\n",
       "    <tr>\n",
       "      <th>4697</th>\n",
       "      <td>305</td>\n",
       "      <td>398</td>\n",
       "      <td>done</td>\n",
       "      <td>1428674265</td>\n",
       "    </tr>\n",
       "    <tr>\n",
       "      <th>4698</th>\n",
       "      <td>305</td>\n",
       "      <td>398</td>\n",
       "      <td>duration</td>\n",
       "      <td>1428677285</td>\n",
       "    </tr>\n",
       "    <tr>\n",
       "      <th>4699</th>\n",
       "      <td>305</td>\n",
       "      <td>398</td>\n",
       "      <td>tag</td>\n",
       "      <td>1428677286</td>\n",
       "    </tr>\n",
       "  </tbody>\n",
       "</table>\n",
       "<p>4700 rows × 4 columns</p>\n",
       "</div>"
      ]
     },
     "metadata": {},
     "execution_count": 1
    }
   ],
   "metadata": {}
  },
  {
   "cell_type": "code",
   "execution_count": 2,
   "source": [
    "class user:\n",
    "    def __init__(self, user_id) -> None:\n",
    "        self.sequence = []\n",
    "        self.behavior = []\n",
    "        self.timestamp = []\n",
    "        self.user = user_id\n",
    "    \n",
    "    def get_seq_len(self):\n",
    "        return len(self.sequence)\n",
    "\n",
    "    def get_seq_part(self,i):\n",
    "        self.length = self.get_seq_len()\n",
    "        if i>self.length:\n",
    "            return self.sequence\n",
    "        else:\n",
    "            return self.sequence[:i]\n",
    "\n",
    "    def add_seq(self,data):\n",
    "        self.sequence.append(data['item'])\n",
    "        self.behavior.append(data['behavior'])\n",
    "        self.timestamp.append(data['time'])\n",
    "\n",
    "    def find(self,x):\n",
    "        if x in self.sequence:\n",
    "            t = self.sequence.index(x)\n",
    "            return t+1\n",
    "        else:\n",
    "            return -1\n",
    "\n",
    "    def set_user(self, user_id, seq, beh, t):\n",
    "        self.user = user_id\n",
    "        self.sequence = seq\n",
    "        self.behavior = beh\n",
    "        self.timestamp = t"
   ],
   "outputs": [],
   "metadata": {}
  },
  {
   "cell_type": "code",
   "execution_count": 3,
   "source": [
    "u_os = []\n",
    "for i in range(306):\n",
    "    tmp = user(i)\n",
    "    u_os.append(tmp)\n",
    "\n",
    "temp = 0\n",
    "for index, row in os.iterrows():\n",
    "    u_os[row['user']].add_seq(row)"
   ],
   "outputs": [],
   "metadata": {}
  },
  {
   "cell_type": "code",
   "execution_count": 4,
   "source": [
    "len(u_os)"
   ],
   "outputs": [
    {
     "output_type": "execute_result",
     "data": {
      "text/plain": [
       "306"
      ]
     },
     "metadata": {},
     "execution_count": 4
    }
   ],
   "metadata": {}
  },
  {
   "cell_type": "code",
   "execution_count": 5,
   "source": [
    "u_os[1].get_seq_len()"
   ],
   "outputs": [
    {
     "output_type": "execute_result",
     "data": {
      "text/plain": [
       "10"
      ]
     },
     "metadata": {},
     "execution_count": 5
    }
   ],
   "metadata": {}
  },
  {
   "cell_type": "code",
   "execution_count": 6,
   "source": [
    "res_os = []\n",
    "for i in range(306):\n",
    "    res_os.append(u_os[i].sequence)"
   ],
   "outputs": [],
   "metadata": {}
  },
  {
   "cell_type": "code",
   "execution_count": 7,
   "source": [
    "length_os = []\n",
    "for s in res_os:\n",
    "    length_os.append(len(s))\n",
    "print(min(length_os),np.average(length_os),max(length_os))"
   ],
   "outputs": [
    {
     "output_type": "stream",
     "name": "stdout",
     "text": [
      "0 15.359477124183007 199\n"
     ]
    }
   ],
   "metadata": {}
  },
  {
   "cell_type": "code",
   "execution_count": 8,
   "source": [
    "os2 = os.to_numpy()\n",
    "os2"
   ],
   "outputs": [
    {
     "output_type": "execute_result",
     "data": {
      "text/plain": [
       "array([[1, 397, 'tag', 1429497734],\n",
       "       [1, 428, 'done', 1429497741],\n",
       "       [1, 429, 'done', 1429497796],\n",
       "       ...,\n",
       "       [305, 398, 'done', 1428674265],\n",
       "       [305, 398, 'duration', 1428677285],\n",
       "       [305, 398, 'tag', 1428677286]], dtype=object)"
      ]
     },
     "metadata": {},
     "execution_count": 8
    }
   ],
   "metadata": {}
  },
  {
   "cell_type": "code",
   "execution_count": 9,
   "source": [
    "import random\n",
    "\n",
    "enhance_os = []\n",
    "u2_list_os = []\n",
    "i=306\n",
    "for _ in range(50):\n",
    "    t1 = random.randint(1,305)\n",
    "    t2 = random.randint(1,305)\n",
    "    u1 = u_os[t1]\n",
    "    #print(u1.user, u1.get_seq_len())\n",
    "    u2 = u_os[t2]\n",
    "    u1_len = u1.get_seq_len()\n",
    "    k1 = random.randint(1,u1_len-1)\n",
    "    x = u1.sequence[k1]\n",
    "    flag = u2.find(x)\n",
    "    #print(flag)\n",
    "    flag_time = u1.timestamp[k1]\n",
    "    if flag>0:\n",
    "        new = u1.sequence[:k1]+u2.sequence[flag:]\n",
    "        beh = u1.behavior[:k1]+u2.behavior[flag:]\n",
    "        tt = [xx + abs(flag_time - u2.timestamp[flag]) for xx in u2.timestamp[flag:]]\n",
    "        t = u1.timestamp[:k1]+tt\n",
    "        if len(new)>3:\n",
    "            us = user(i)\n",
    "            us.set_user(i, new, beh, t)\n",
    "            enhance_os.append(new)\n",
    "            u2_list_os.append(us)\n",
    "            i+=1\n",
    "\n",
    "for x in enhance_os:\n",
    "    print(len(x))"
   ],
   "outputs": [
    {
     "output_type": "stream",
     "name": "stdout",
     "text": [
      "60\n",
      "4\n",
      "9\n",
      "47\n",
      "17\n",
      "4\n",
      "34\n",
      "18\n",
      "30\n",
      "6\n",
      "7\n",
      "5\n",
      "9\n",
      "22\n",
      "6\n",
      "16\n",
      "8\n",
      "12\n",
      "10\n",
      "20\n",
      "5\n",
      "46\n",
      "11\n"
     ]
    }
   ],
   "metadata": {}
  },
  {
   "cell_type": "code",
   "execution_count": 10,
   "source": [
    "# 以上为随机拼接\n",
    "new_res_os = []\n",
    "def gen_new(u):\n",
    "    length = u.get_seq_len()\n",
    "    for i in range(length):\n",
    "        tmp = [u.user, u.sequence[i], u.behavior[i], u.timestamp[i]]\n",
    "        new_res_os.append(tmp)\n",
    "for u_i in u2_list_os:\n",
    "    gen_new(u_i)\n",
    "\n",
    "new_res_os = np.array(new_res_os)"
   ],
   "outputs": [],
   "metadata": {}
  },
  {
   "cell_type": "code",
   "execution_count": 11,
   "source": [
    "new_os = np.concatenate((os2, new_res_os), axis=0)\n",
    "new_os"
   ],
   "outputs": [
    {
     "output_type": "execute_result",
     "data": {
      "text/plain": [
       "array([[1, 397, 'tag', 1429497734],\n",
       "       [1, 428, 'done', 1429497741],\n",
       "       [1, 429, 'done', 1429497796],\n",
       "       ...,\n",
       "       ['328', '397', 'done', '1429717354'],\n",
       "       ['328', '397', 'tag', '1436223106'],\n",
       "       ['328', '397', 'watch', '1436223943']], dtype=object)"
      ]
     },
     "metadata": {},
     "execution_count": 11
    }
   ],
   "metadata": {}
  },
  {
   "cell_type": "code",
   "execution_count": 12,
   "source": [
    "new_os2 = pd.DataFrame(new_os)\n",
    "new_os2"
   ],
   "outputs": [
    {
     "output_type": "execute_result",
     "data": {
      "text/plain": [
       "        0    1      2           3\n",
       "0       1  397    tag  1429497734\n",
       "1       1  428   done  1429497741\n",
       "2       1  429   done  1429497796\n",
       "3       1  417   done  1429497920\n",
       "4       1  428    tag  1429499516\n",
       "...   ...  ...    ...         ...\n",
       "5101  328    6   done  1429715608\n",
       "5102  328  397  enter  1429717194\n",
       "5103  328  397   done  1429717354\n",
       "5104  328  397    tag  1436223106\n",
       "5105  328  397  watch  1436223943\n",
       "\n",
       "[5106 rows x 4 columns]"
      ],
      "text/html": [
       "<div>\n",
       "<style scoped>\n",
       "    .dataframe tbody tr th:only-of-type {\n",
       "        vertical-align: middle;\n",
       "    }\n",
       "\n",
       "    .dataframe tbody tr th {\n",
       "        vertical-align: top;\n",
       "    }\n",
       "\n",
       "    .dataframe thead th {\n",
       "        text-align: right;\n",
       "    }\n",
       "</style>\n",
       "<table border=\"1\" class=\"dataframe\">\n",
       "  <thead>\n",
       "    <tr style=\"text-align: right;\">\n",
       "      <th></th>\n",
       "      <th>0</th>\n",
       "      <th>1</th>\n",
       "      <th>2</th>\n",
       "      <th>3</th>\n",
       "    </tr>\n",
       "  </thead>\n",
       "  <tbody>\n",
       "    <tr>\n",
       "      <th>0</th>\n",
       "      <td>1</td>\n",
       "      <td>397</td>\n",
       "      <td>tag</td>\n",
       "      <td>1429497734</td>\n",
       "    </tr>\n",
       "    <tr>\n",
       "      <th>1</th>\n",
       "      <td>1</td>\n",
       "      <td>428</td>\n",
       "      <td>done</td>\n",
       "      <td>1429497741</td>\n",
       "    </tr>\n",
       "    <tr>\n",
       "      <th>2</th>\n",
       "      <td>1</td>\n",
       "      <td>429</td>\n",
       "      <td>done</td>\n",
       "      <td>1429497796</td>\n",
       "    </tr>\n",
       "    <tr>\n",
       "      <th>3</th>\n",
       "      <td>1</td>\n",
       "      <td>417</td>\n",
       "      <td>done</td>\n",
       "      <td>1429497920</td>\n",
       "    </tr>\n",
       "    <tr>\n",
       "      <th>4</th>\n",
       "      <td>1</td>\n",
       "      <td>428</td>\n",
       "      <td>tag</td>\n",
       "      <td>1429499516</td>\n",
       "    </tr>\n",
       "    <tr>\n",
       "      <th>...</th>\n",
       "      <td>...</td>\n",
       "      <td>...</td>\n",
       "      <td>...</td>\n",
       "      <td>...</td>\n",
       "    </tr>\n",
       "    <tr>\n",
       "      <th>5101</th>\n",
       "      <td>328</td>\n",
       "      <td>6</td>\n",
       "      <td>done</td>\n",
       "      <td>1429715608</td>\n",
       "    </tr>\n",
       "    <tr>\n",
       "      <th>5102</th>\n",
       "      <td>328</td>\n",
       "      <td>397</td>\n",
       "      <td>enter</td>\n",
       "      <td>1429717194</td>\n",
       "    </tr>\n",
       "    <tr>\n",
       "      <th>5103</th>\n",
       "      <td>328</td>\n",
       "      <td>397</td>\n",
       "      <td>done</td>\n",
       "      <td>1429717354</td>\n",
       "    </tr>\n",
       "    <tr>\n",
       "      <th>5104</th>\n",
       "      <td>328</td>\n",
       "      <td>397</td>\n",
       "      <td>tag</td>\n",
       "      <td>1436223106</td>\n",
       "    </tr>\n",
       "    <tr>\n",
       "      <th>5105</th>\n",
       "      <td>328</td>\n",
       "      <td>397</td>\n",
       "      <td>watch</td>\n",
       "      <td>1436223943</td>\n",
       "    </tr>\n",
       "  </tbody>\n",
       "</table>\n",
       "<p>5106 rows × 4 columns</p>\n",
       "</div>"
      ]
     },
     "metadata": {},
     "execution_count": 12
    }
   ],
   "metadata": {}
  },
  {
   "cell_type": "code",
   "execution_count": 13,
   "source": [
    "new_os2.to_csv('os_mb_KG_e1.txt', sep = '\\t', index=False, header=None)"
   ],
   "outputs": [],
   "metadata": {}
  },
  {
   "cell_type": "code",
   "execution_count": 14,
   "source": [
    "import pandas as pd\n",
    "import numpy as np\n",
    "\n",
    "net = pd.read_csv('../net_mb_KG.txt',names=['user','item','behavior','time'], sep='\\t')\n",
    "net"
   ],
   "outputs": [
    {
     "output_type": "execute_result",
     "data": {
      "text/plain": [
       "      user  item behavior        time\n",
       "0        1     1    enter  1413883798\n",
       "1        1     1     done  1413883869\n",
       "2        1     1    watch  1415244162\n",
       "3        1     1      tag  1415330742\n",
       "4        2     1    watch  1414155169\n",
       "...    ...   ...      ...         ...\n",
       "3591   246   285     done  1429539992\n",
       "3592   246   286     done  1429624580\n",
       "3593   246   287      tag  1429753275\n",
       "3594   246     1      tag  1429794648\n",
       "3595   246   287     done  1429794803\n",
       "\n",
       "[3596 rows x 4 columns]"
      ],
      "text/html": [
       "<div>\n",
       "<style scoped>\n",
       "    .dataframe tbody tr th:only-of-type {\n",
       "        vertical-align: middle;\n",
       "    }\n",
       "\n",
       "    .dataframe tbody tr th {\n",
       "        vertical-align: top;\n",
       "    }\n",
       "\n",
       "    .dataframe thead th {\n",
       "        text-align: right;\n",
       "    }\n",
       "</style>\n",
       "<table border=\"1\" class=\"dataframe\">\n",
       "  <thead>\n",
       "    <tr style=\"text-align: right;\">\n",
       "      <th></th>\n",
       "      <th>user</th>\n",
       "      <th>item</th>\n",
       "      <th>behavior</th>\n",
       "      <th>time</th>\n",
       "    </tr>\n",
       "  </thead>\n",
       "  <tbody>\n",
       "    <tr>\n",
       "      <th>0</th>\n",
       "      <td>1</td>\n",
       "      <td>1</td>\n",
       "      <td>enter</td>\n",
       "      <td>1413883798</td>\n",
       "    </tr>\n",
       "    <tr>\n",
       "      <th>1</th>\n",
       "      <td>1</td>\n",
       "      <td>1</td>\n",
       "      <td>done</td>\n",
       "      <td>1413883869</td>\n",
       "    </tr>\n",
       "    <tr>\n",
       "      <th>2</th>\n",
       "      <td>1</td>\n",
       "      <td>1</td>\n",
       "      <td>watch</td>\n",
       "      <td>1415244162</td>\n",
       "    </tr>\n",
       "    <tr>\n",
       "      <th>3</th>\n",
       "      <td>1</td>\n",
       "      <td>1</td>\n",
       "      <td>tag</td>\n",
       "      <td>1415330742</td>\n",
       "    </tr>\n",
       "    <tr>\n",
       "      <th>4</th>\n",
       "      <td>2</td>\n",
       "      <td>1</td>\n",
       "      <td>watch</td>\n",
       "      <td>1414155169</td>\n",
       "    </tr>\n",
       "    <tr>\n",
       "      <th>...</th>\n",
       "      <td>...</td>\n",
       "      <td>...</td>\n",
       "      <td>...</td>\n",
       "      <td>...</td>\n",
       "    </tr>\n",
       "    <tr>\n",
       "      <th>3591</th>\n",
       "      <td>246</td>\n",
       "      <td>285</td>\n",
       "      <td>done</td>\n",
       "      <td>1429539992</td>\n",
       "    </tr>\n",
       "    <tr>\n",
       "      <th>3592</th>\n",
       "      <td>246</td>\n",
       "      <td>286</td>\n",
       "      <td>done</td>\n",
       "      <td>1429624580</td>\n",
       "    </tr>\n",
       "    <tr>\n",
       "      <th>3593</th>\n",
       "      <td>246</td>\n",
       "      <td>287</td>\n",
       "      <td>tag</td>\n",
       "      <td>1429753275</td>\n",
       "    </tr>\n",
       "    <tr>\n",
       "      <th>3594</th>\n",
       "      <td>246</td>\n",
       "      <td>1</td>\n",
       "      <td>tag</td>\n",
       "      <td>1429794648</td>\n",
       "    </tr>\n",
       "    <tr>\n",
       "      <th>3595</th>\n",
       "      <td>246</td>\n",
       "      <td>287</td>\n",
       "      <td>done</td>\n",
       "      <td>1429794803</td>\n",
       "    </tr>\n",
       "  </tbody>\n",
       "</table>\n",
       "<p>3596 rows × 4 columns</p>\n",
       "</div>"
      ]
     },
     "metadata": {},
     "execution_count": 14
    }
   ],
   "metadata": {}
  },
  {
   "cell_type": "code",
   "execution_count": 16,
   "source": [
    "u_net = []\n",
    "for i in range(247):\n",
    "    tmp = user(i)\n",
    "    u_net.append(tmp)\n",
    "\n",
    "temp = 0\n",
    "for index, row in net.iterrows():\n",
    "    u_net[row['user']].add_seq(row)"
   ],
   "outputs": [],
   "metadata": {}
  },
  {
   "cell_type": "code",
   "execution_count": 17,
   "source": [
    "len(u_net)"
   ],
   "outputs": [
    {
     "output_type": "execute_result",
     "data": {
      "text/plain": [
       "247"
      ]
     },
     "metadata": {},
     "execution_count": 17
    }
   ],
   "metadata": {}
  },
  {
   "cell_type": "code",
   "execution_count": 18,
   "source": [
    "u_net[1].get_seq_len()"
   ],
   "outputs": [
    {
     "output_type": "execute_result",
     "data": {
      "text/plain": [
       "4"
      ]
     },
     "metadata": {},
     "execution_count": 18
    }
   ],
   "metadata": {}
  },
  {
   "cell_type": "code",
   "execution_count": 20,
   "source": [
    "res_net = []\n",
    "for i in range(247):\n",
    "    res_net.append(u_net[i].sequence)"
   ],
   "outputs": [],
   "metadata": {}
  },
  {
   "cell_type": "code",
   "execution_count": 21,
   "source": [
    "length_net = []\n",
    "for s in res_net:\n",
    "    length_net.append(len(s))\n",
    "print(min(length_net),np.average(length_net),max(length_net))"
   ],
   "outputs": [
    {
     "output_type": "stream",
     "name": "stdout",
     "text": [
      "0 14.558704453441296 122\n"
     ]
    }
   ],
   "metadata": {}
  },
  {
   "cell_type": "code",
   "execution_count": 22,
   "source": [
    "net2 = net.to_numpy()\n",
    "net2"
   ],
   "outputs": [
    {
     "output_type": "execute_result",
     "data": {
      "text/plain": [
       "array([[1, 1, 'enter', 1413883798],\n",
       "       [1, 1, 'done', 1413883869],\n",
       "       [1, 1, 'watch', 1415244162],\n",
       "       ...,\n",
       "       [246, 287, 'tag', 1429753275],\n",
       "       [246, 1, 'tag', 1429794648],\n",
       "       [246, 287, 'done', 1429794803]], dtype=object)"
      ]
     },
     "metadata": {},
     "execution_count": 22
    }
   ],
   "metadata": {}
  },
  {
   "cell_type": "code",
   "execution_count": 23,
   "source": [
    "import random\n",
    "\n",
    "enhance_net = []\n",
    "u2_list_net = []\n",
    "i=247\n",
    "for _ in range(50):\n",
    "    t1 = random.randint(1,246)\n",
    "    t2 = random.randint(1,246)\n",
    "    u1 = u_net[t1]\n",
    "    #print(u1.user, u1.get_seq_len())\n",
    "    u2 = u_net[t2]\n",
    "    u1_len = u1.get_seq_len()\n",
    "    k1 = random.randint(1,u1_len-1)\n",
    "    x = u1.sequence[k1]\n",
    "    flag = u2.find(x)\n",
    "    #print(flag)\n",
    "    flag_time = u1.timestamp[k1]\n",
    "    if flag>0:\n",
    "        new = u1.sequence[:k1]+u2.sequence[flag:]\n",
    "        beh = u1.behavior[:k1]+u2.behavior[flag:]\n",
    "        tt = [xx + abs(flag_time - u2.timestamp[flag]) for xx in u2.timestamp[flag:]]\n",
    "        t = u1.timestamp[:k1]+tt\n",
    "        if len(new)>3:\n",
    "            us = user(i)\n",
    "            us.set_user(i, new, beh, t)\n",
    "            enhance_net.append(new)\n",
    "            u2_list_net.append(us)\n",
    "            i+=1\n",
    "\n",
    "for x in enhance_net:\n",
    "    print(len(x))"
   ],
   "outputs": [
    {
     "output_type": "stream",
     "name": "stdout",
     "text": [
      "6\n",
      "7\n",
      "8\n",
      "22\n",
      "4\n",
      "7\n",
      "5\n",
      "25\n",
      "20\n",
      "7\n",
      "10\n",
      "16\n",
      "20\n",
      "9\n",
      "14\n",
      "6\n",
      "5\n",
      "12\n",
      "5\n",
      "4\n",
      "5\n",
      "9\n",
      "18\n",
      "7\n",
      "5\n",
      "32\n",
      "5\n",
      "56\n",
      "4\n",
      "8\n"
     ]
    }
   ],
   "metadata": {}
  },
  {
   "cell_type": "code",
   "execution_count": 24,
   "source": [
    "# 以上为随机拼接\n",
    "new_res_net = []\n",
    "def gen_new(u):\n",
    "    length = u.get_seq_len()\n",
    "    for i in range(length):\n",
    "        tmp = [u.user, u.sequence[i], u.behavior[i], u.timestamp[i]]\n",
    "        new_res_net.append(tmp)\n",
    "for u_i in u2_list_net:\n",
    "    gen_new(u_i)\n",
    "\n",
    "new_res_net = np.array(new_res_net)"
   ],
   "outputs": [],
   "metadata": {}
  },
  {
   "cell_type": "code",
   "execution_count": 25,
   "source": [
    "new_net = np.concatenate((net2, new_res_net), axis=0)\n",
    "new_net"
   ],
   "outputs": [
    {
     "output_type": "execute_result",
     "data": {
      "text/plain": [
       "array([[1, 1, 'enter', 1413883798],\n",
       "       [1, 1, 'done', 1413883869],\n",
       "       [1, 1, 'watch', 1415244162],\n",
       "       ...,\n",
       "       ['276', '1', 'done', '1419388799'],\n",
       "       ['276', '1', 'tag', '1422916025'],\n",
       "       ['276', '1', 'watch', '1423787569']], dtype=object)"
      ]
     },
     "metadata": {},
     "execution_count": 25
    }
   ],
   "metadata": {}
  },
  {
   "cell_type": "code",
   "execution_count": 26,
   "source": [
    "new_net2 = pd.DataFrame(new_net)\n",
    "new_net2"
   ],
   "outputs": [
    {
     "output_type": "execute_result",
     "data": {
      "text/plain": [
       "        0    1         2           3\n",
       "0       1    1     enter  1413883798\n",
       "1       1    1      done  1413883869\n",
       "2       1    1     watch  1415244162\n",
       "3       1    1       tag  1415330742\n",
       "4       2    1     watch  1414155169\n",
       "...   ...  ...       ...         ...\n",
       "3952  276  285  duration  1415608075\n",
       "3953  276    1       tag  1416534619\n",
       "3954  276    1      done  1419388799\n",
       "3955  276    1       tag  1422916025\n",
       "3956  276    1     watch  1423787569\n",
       "\n",
       "[3957 rows x 4 columns]"
      ],
      "text/html": [
       "<div>\n",
       "<style scoped>\n",
       "    .dataframe tbody tr th:only-of-type {\n",
       "        vertical-align: middle;\n",
       "    }\n",
       "\n",
       "    .dataframe tbody tr th {\n",
       "        vertical-align: top;\n",
       "    }\n",
       "\n",
       "    .dataframe thead th {\n",
       "        text-align: right;\n",
       "    }\n",
       "</style>\n",
       "<table border=\"1\" class=\"dataframe\">\n",
       "  <thead>\n",
       "    <tr style=\"text-align: right;\">\n",
       "      <th></th>\n",
       "      <th>0</th>\n",
       "      <th>1</th>\n",
       "      <th>2</th>\n",
       "      <th>3</th>\n",
       "    </tr>\n",
       "  </thead>\n",
       "  <tbody>\n",
       "    <tr>\n",
       "      <th>0</th>\n",
       "      <td>1</td>\n",
       "      <td>1</td>\n",
       "      <td>enter</td>\n",
       "      <td>1413883798</td>\n",
       "    </tr>\n",
       "    <tr>\n",
       "      <th>1</th>\n",
       "      <td>1</td>\n",
       "      <td>1</td>\n",
       "      <td>done</td>\n",
       "      <td>1413883869</td>\n",
       "    </tr>\n",
       "    <tr>\n",
       "      <th>2</th>\n",
       "      <td>1</td>\n",
       "      <td>1</td>\n",
       "      <td>watch</td>\n",
       "      <td>1415244162</td>\n",
       "    </tr>\n",
       "    <tr>\n",
       "      <th>3</th>\n",
       "      <td>1</td>\n",
       "      <td>1</td>\n",
       "      <td>tag</td>\n",
       "      <td>1415330742</td>\n",
       "    </tr>\n",
       "    <tr>\n",
       "      <th>4</th>\n",
       "      <td>2</td>\n",
       "      <td>1</td>\n",
       "      <td>watch</td>\n",
       "      <td>1414155169</td>\n",
       "    </tr>\n",
       "    <tr>\n",
       "      <th>...</th>\n",
       "      <td>...</td>\n",
       "      <td>...</td>\n",
       "      <td>...</td>\n",
       "      <td>...</td>\n",
       "    </tr>\n",
       "    <tr>\n",
       "      <th>3952</th>\n",
       "      <td>276</td>\n",
       "      <td>285</td>\n",
       "      <td>duration</td>\n",
       "      <td>1415608075</td>\n",
       "    </tr>\n",
       "    <tr>\n",
       "      <th>3953</th>\n",
       "      <td>276</td>\n",
       "      <td>1</td>\n",
       "      <td>tag</td>\n",
       "      <td>1416534619</td>\n",
       "    </tr>\n",
       "    <tr>\n",
       "      <th>3954</th>\n",
       "      <td>276</td>\n",
       "      <td>1</td>\n",
       "      <td>done</td>\n",
       "      <td>1419388799</td>\n",
       "    </tr>\n",
       "    <tr>\n",
       "      <th>3955</th>\n",
       "      <td>276</td>\n",
       "      <td>1</td>\n",
       "      <td>tag</td>\n",
       "      <td>1422916025</td>\n",
       "    </tr>\n",
       "    <tr>\n",
       "      <th>3956</th>\n",
       "      <td>276</td>\n",
       "      <td>1</td>\n",
       "      <td>watch</td>\n",
       "      <td>1423787569</td>\n",
       "    </tr>\n",
       "  </tbody>\n",
       "</table>\n",
       "<p>3957 rows × 4 columns</p>\n",
       "</div>"
      ]
     },
     "metadata": {},
     "execution_count": 26
    }
   ],
   "metadata": {}
  },
  {
   "cell_type": "code",
   "execution_count": 27,
   "source": [
    "new_net2.to_csv('net_mb_KG_e1.txt', sep = '\\t', index=False, header=None)"
   ],
   "outputs": [],
   "metadata": {}
  },
  {
   "cell_type": "code",
   "execution_count": null,
   "source": [
    "#引入专家知识——固定知识点路径"
   ],
   "outputs": [],
   "metadata": {}
  },
  {
   "cell_type": "markdown",
   "source": [
    "为mooper完成数据增强"
   ],
   "metadata": {}
  },
  {
   "cell_type": "code",
   "execution_count": 1,
   "source": [
    "import pandas as pd\n",
    "import numpy as np\n",
    "\n",
    "data_sci = pd.read_csv('../data_sci_mb.txt',names=['user','item','behavior','time'], sep='\\t')\n",
    "computer = pd.read_csv('../computer_mb.txt',names=['user','item','behavior','time'], sep='\\t')\n",
    "c_class = pd.read_csv('../c_class_mb.txt',names=['user','item','behavior','time'], sep='\\t')"
   ],
   "outputs": [],
   "metadata": {}
  },
  {
   "cell_type": "code",
   "execution_count": 2,
   "source": [
    "class user:\n",
    "    def __init__(self, user_id) -> None:\n",
    "        self.sequence = []\n",
    "        self.behavior = []\n",
    "        self.timestamp = []\n",
    "        self.user = user_id\n",
    "    \n",
    "    def get_seq_len(self):\n",
    "        return len(self.sequence)\n",
    "\n",
    "    def get_seq_part(self,i):\n",
    "        self.length = self.get_seq_len()\n",
    "        if i>self.length:\n",
    "            return self.sequence\n",
    "        else:\n",
    "            return self.sequence[:i]\n",
    "\n",
    "    def add_seq(self,data):\n",
    "        self.sequence.append(data['item'])\n",
    "        self.behavior.append(data['behavior'])\n",
    "        self.timestamp.append(data['time'])\n",
    "\n",
    "    def find(self,x):\n",
    "        if x in self.sequence:\n",
    "            t = self.sequence.index(x)\n",
    "            return t+1\n",
    "        else:\n",
    "            return -1\n",
    "\n",
    "    def set_user(self, user_id, seq, beh, t):\n",
    "        self.user = user_id\n",
    "        self.sequence = seq\n",
    "        self.behavior = beh\n",
    "        self.timestamp = t"
   ],
   "outputs": [],
   "metadata": {}
  },
  {
   "cell_type": "code",
   "execution_count": 21,
   "source": [
    "data_sci[data_sci['user'].isin(data_sci.groupby('user').count()[data_sci.groupby('user').count()['item']>3].index)]"
   ],
   "outputs": [
    {
     "output_type": "execute_result",
     "data": {
      "text/plain": [
       "       user  item   behavior        time\n",
       "2         2   128     medium  1540214275\n",
       "3         2   128       easy  1540214275\n",
       "4         2   136     medium  1543805890\n",
       "5         2   125       easy  1543806006\n",
       "6         2   125     medium  1543806006\n",
       "...     ...   ...        ...         ...\n",
       "79902  8740   125       easy  1577588993\n",
       "79903  8740   125  difficult  1577589503\n",
       "79904  8740   127       easy  1577590584\n",
       "79905  8740   127     medium  1577590709\n",
       "79906  8740   135     medium  1577591957\n",
       "\n",
       "[74893 rows x 4 columns]"
      ],
      "text/html": [
       "<div>\n",
       "<style scoped>\n",
       "    .dataframe tbody tr th:only-of-type {\n",
       "        vertical-align: middle;\n",
       "    }\n",
       "\n",
       "    .dataframe tbody tr th {\n",
       "        vertical-align: top;\n",
       "    }\n",
       "\n",
       "    .dataframe thead th {\n",
       "        text-align: right;\n",
       "    }\n",
       "</style>\n",
       "<table border=\"1\" class=\"dataframe\">\n",
       "  <thead>\n",
       "    <tr style=\"text-align: right;\">\n",
       "      <th></th>\n",
       "      <th>user</th>\n",
       "      <th>item</th>\n",
       "      <th>behavior</th>\n",
       "      <th>time</th>\n",
       "    </tr>\n",
       "  </thead>\n",
       "  <tbody>\n",
       "    <tr>\n",
       "      <th>2</th>\n",
       "      <td>2</td>\n",
       "      <td>128</td>\n",
       "      <td>medium</td>\n",
       "      <td>1540214275</td>\n",
       "    </tr>\n",
       "    <tr>\n",
       "      <th>3</th>\n",
       "      <td>2</td>\n",
       "      <td>128</td>\n",
       "      <td>easy</td>\n",
       "      <td>1540214275</td>\n",
       "    </tr>\n",
       "    <tr>\n",
       "      <th>4</th>\n",
       "      <td>2</td>\n",
       "      <td>136</td>\n",
       "      <td>medium</td>\n",
       "      <td>1543805890</td>\n",
       "    </tr>\n",
       "    <tr>\n",
       "      <th>5</th>\n",
       "      <td>2</td>\n",
       "      <td>125</td>\n",
       "      <td>easy</td>\n",
       "      <td>1543806006</td>\n",
       "    </tr>\n",
       "    <tr>\n",
       "      <th>6</th>\n",
       "      <td>2</td>\n",
       "      <td>125</td>\n",
       "      <td>medium</td>\n",
       "      <td>1543806006</td>\n",
       "    </tr>\n",
       "    <tr>\n",
       "      <th>...</th>\n",
       "      <td>...</td>\n",
       "      <td>...</td>\n",
       "      <td>...</td>\n",
       "      <td>...</td>\n",
       "    </tr>\n",
       "    <tr>\n",
       "      <th>79902</th>\n",
       "      <td>8740</td>\n",
       "      <td>125</td>\n",
       "      <td>easy</td>\n",
       "      <td>1577588993</td>\n",
       "    </tr>\n",
       "    <tr>\n",
       "      <th>79903</th>\n",
       "      <td>8740</td>\n",
       "      <td>125</td>\n",
       "      <td>difficult</td>\n",
       "      <td>1577589503</td>\n",
       "    </tr>\n",
       "    <tr>\n",
       "      <th>79904</th>\n",
       "      <td>8740</td>\n",
       "      <td>127</td>\n",
       "      <td>easy</td>\n",
       "      <td>1577590584</td>\n",
       "    </tr>\n",
       "    <tr>\n",
       "      <th>79905</th>\n",
       "      <td>8740</td>\n",
       "      <td>127</td>\n",
       "      <td>medium</td>\n",
       "      <td>1577590709</td>\n",
       "    </tr>\n",
       "    <tr>\n",
       "      <th>79906</th>\n",
       "      <td>8740</td>\n",
       "      <td>135</td>\n",
       "      <td>medium</td>\n",
       "      <td>1577591957</td>\n",
       "    </tr>\n",
       "  </tbody>\n",
       "</table>\n",
       "<p>74893 rows × 4 columns</p>\n",
       "</div>"
      ]
     },
     "metadata": {},
     "execution_count": 21
    }
   ],
   "metadata": {}
  },
  {
   "cell_type": "code",
   "execution_count": null,
   "source": [
    "data_sci2 = data_sci[data_sci['user'].isin(data_sci.groupby('user').count()[data_sci.groupby('user').count()['item']>3].index)]"
   ],
   "outputs": [],
   "metadata": {}
  },
  {
   "cell_type": "code",
   "execution_count": 4,
   "source": [
    "data_sci['user'].nunique()"
   ],
   "outputs": [
    {
     "output_type": "execute_result",
     "data": {
      "text/plain": [
       "8741"
      ]
     },
     "metadata": {},
     "execution_count": 4
    }
   ],
   "metadata": {}
  },
  {
   "cell_type": "code",
   "execution_count": 17,
   "source": [
    "u_data_sci = []\n",
    "for i in range(data_sci['user'].nunique()+1):\n",
    "    tmp = user(i)\n",
    "    if tmp.get_seq_len()>1:\n",
    "        u_data_sci.append(tmp)\n",
    "\n",
    "temp = 0\n",
    "for index, row in data_sci.iterrows():\n",
    "    u_data_sci[row['user']].add_seq(row)"
   ],
   "outputs": [
    {
     "output_type": "execute_result",
     "data": {
      "text/plain": [
       "0"
      ]
     },
     "metadata": {},
     "execution_count": 17
    }
   ],
   "metadata": {}
  },
  {
   "cell_type": "code",
   "execution_count": 15,
   "source": [
    "len(u_data_sci)"
   ],
   "outputs": [
    {
     "output_type": "execute_result",
     "data": {
      "text/plain": [
       "1"
      ]
     },
     "metadata": {},
     "execution_count": 15
    }
   ],
   "metadata": {}
  },
  {
   "cell_type": "code",
   "execution_count": 6,
   "source": [
    "print(len(u_data_sci))"
   ],
   "outputs": [
    {
     "output_type": "stream",
     "name": "stdout",
     "text": [
      "8742\n"
     ]
    }
   ],
   "metadata": {}
  },
  {
   "cell_type": "code",
   "execution_count": 8,
   "source": [
    "res_data_sci = []\n",
    "for i in range(247):\n",
    "    res_data_sci.append(u_data_sci[i].sequence)"
   ],
   "outputs": [],
   "metadata": {}
  },
  {
   "cell_type": "code",
   "execution_count": 9,
   "source": [
    "length_data_sci = []\n",
    "for s in res_data_sci:\n",
    "    length_data_sci.append(len(s))\n",
    "print(min(length_data_sci),np.average(length_data_sci),max(length_data_sci))"
   ],
   "outputs": [
    {
     "output_type": "stream",
     "name": "stdout",
     "text": [
      "1 4.838056680161944 31\n"
     ]
    }
   ],
   "metadata": {}
  },
  {
   "cell_type": "code",
   "execution_count": null,
   "source": [],
   "outputs": [],
   "metadata": {}
  },
  {
   "cell_type": "code",
   "execution_count": 13,
   "source": [
    "import random\n",
    "\n",
    "enhance_data_sci = []\n",
    "u2_list_data_sci = []\n",
    "i=len(u_data_sci)+1\n",
    "for _ in range(len(u_data_sci)//20):\n",
    "    t1 = random.randint(1,len(u_data_sci))\n",
    "    t2 = random.randint(1,len(u_data_sci))\n",
    "    u1 = u_data_sci[t1]\n",
    "    print(u1.user, u1.get_seq_len())\n",
    "    u2 = u_data_sci[t2]\n",
    "    u1_len = u1.get_seq_len()\n",
    "    k1 = random.randint(1,u1_len-1)\n",
    "    x = u1.sequence[k1]\n",
    "    flag = u2.find(x)\n",
    "    #print(flag)\n",
    "    flag_time = u1.timestamp[k1]\n",
    "    if flag>0:\n",
    "        new = u1.sequence[:k1]+u2.sequence[flag:]\n",
    "        beh = u1.behavior[:k1]+u2.behavior[flag:]\n",
    "        tt = [xx + abs(flag_time - u2.timestamp[flag]) for xx in u2.timestamp[flag:]]\n",
    "        t = u1.timestamp[:k1]+tt\n",
    "        if len(new)>3:\n",
    "            us = user(i)\n",
    "            us.set_user(i, new, beh, t)\n",
    "            enhance_net.append(new)\n",
    "            u2_list_net.append(us)\n",
    "            i+=1"
   ],
   "outputs": [
    {
     "output_type": "stream",
     "name": "stdout",
     "text": [
      "4377 5\n",
      "2873 1\n"
     ]
    },
    {
     "output_type": "error",
     "ename": "ValueError",
     "evalue": "empty range for randrange() (1,1, 0)",
     "traceback": [
      "\u001b[0;31m---------------------------------------------------------------------------\u001b[0m",
      "\u001b[0;31mValueError\u001b[0m                                Traceback (most recent call last)",
      "\u001b[0;32m/tmp/ipykernel_4054812/2341135819.py\u001b[0m in \u001b[0;36m<module>\u001b[0;34m\u001b[0m\n\u001b[1;32m     11\u001b[0m     \u001b[0mu2\u001b[0m \u001b[0;34m=\u001b[0m \u001b[0mu_data_sci\u001b[0m\u001b[0;34m[\u001b[0m\u001b[0mt2\u001b[0m\u001b[0;34m]\u001b[0m\u001b[0;34m\u001b[0m\u001b[0;34m\u001b[0m\u001b[0m\n\u001b[1;32m     12\u001b[0m     \u001b[0mu1_len\u001b[0m \u001b[0;34m=\u001b[0m \u001b[0mu1\u001b[0m\u001b[0;34m.\u001b[0m\u001b[0mget_seq_len\u001b[0m\u001b[0;34m(\u001b[0m\u001b[0;34m)\u001b[0m\u001b[0;34m\u001b[0m\u001b[0;34m\u001b[0m\u001b[0m\n\u001b[0;32m---> 13\u001b[0;31m     \u001b[0mk1\u001b[0m \u001b[0;34m=\u001b[0m \u001b[0mrandom\u001b[0m\u001b[0;34m.\u001b[0m\u001b[0mrandint\u001b[0m\u001b[0;34m(\u001b[0m\u001b[0;36m1\u001b[0m\u001b[0;34m,\u001b[0m\u001b[0mu1_len\u001b[0m\u001b[0;34m-\u001b[0m\u001b[0;36m1\u001b[0m\u001b[0;34m)\u001b[0m\u001b[0;34m\u001b[0m\u001b[0;34m\u001b[0m\u001b[0m\n\u001b[0m\u001b[1;32m     14\u001b[0m     \u001b[0mx\u001b[0m \u001b[0;34m=\u001b[0m \u001b[0mu1\u001b[0m\u001b[0;34m.\u001b[0m\u001b[0msequence\u001b[0m\u001b[0;34m[\u001b[0m\u001b[0mk1\u001b[0m\u001b[0;34m]\u001b[0m\u001b[0;34m\u001b[0m\u001b[0;34m\u001b[0m\u001b[0m\n\u001b[1;32m     15\u001b[0m     \u001b[0mflag\u001b[0m \u001b[0;34m=\u001b[0m \u001b[0mu2\u001b[0m\u001b[0;34m.\u001b[0m\u001b[0mfind\u001b[0m\u001b[0;34m(\u001b[0m\u001b[0mx\u001b[0m\u001b[0;34m)\u001b[0m\u001b[0;34m\u001b[0m\u001b[0;34m\u001b[0m\u001b[0m\n",
      "\u001b[0;32m/opt/conda/envs/KT_RL/lib/python3.7/random.py\u001b[0m in \u001b[0;36mrandint\u001b[0;34m(self, a, b)\u001b[0m\n\u001b[1;32m    220\u001b[0m         \"\"\"\n\u001b[1;32m    221\u001b[0m \u001b[0;34m\u001b[0m\u001b[0m\n\u001b[0;32m--> 222\u001b[0;31m         \u001b[0;32mreturn\u001b[0m \u001b[0mself\u001b[0m\u001b[0;34m.\u001b[0m\u001b[0mrandrange\u001b[0m\u001b[0;34m(\u001b[0m\u001b[0ma\u001b[0m\u001b[0;34m,\u001b[0m \u001b[0mb\u001b[0m\u001b[0;34m+\u001b[0m\u001b[0;36m1\u001b[0m\u001b[0;34m)\u001b[0m\u001b[0;34m\u001b[0m\u001b[0;34m\u001b[0m\u001b[0m\n\u001b[0m\u001b[1;32m    223\u001b[0m \u001b[0;34m\u001b[0m\u001b[0m\n\u001b[1;32m    224\u001b[0m     def _randbelow(self, n, int=int, maxsize=1<<BPF, type=type,\n",
      "\u001b[0;32m/opt/conda/envs/KT_RL/lib/python3.7/random.py\u001b[0m in \u001b[0;36mrandrange\u001b[0;34m(self, start, stop, step, _int)\u001b[0m\n\u001b[1;32m    198\u001b[0m             \u001b[0;32mreturn\u001b[0m \u001b[0mistart\u001b[0m \u001b[0;34m+\u001b[0m \u001b[0mself\u001b[0m\u001b[0;34m.\u001b[0m\u001b[0m_randbelow\u001b[0m\u001b[0;34m(\u001b[0m\u001b[0mwidth\u001b[0m\u001b[0;34m)\u001b[0m\u001b[0;34m\u001b[0m\u001b[0;34m\u001b[0m\u001b[0m\n\u001b[1;32m    199\u001b[0m         \u001b[0;32mif\u001b[0m \u001b[0mstep\u001b[0m \u001b[0;34m==\u001b[0m \u001b[0;36m1\u001b[0m\u001b[0;34m:\u001b[0m\u001b[0;34m\u001b[0m\u001b[0;34m\u001b[0m\u001b[0m\n\u001b[0;32m--> 200\u001b[0;31m             \u001b[0;32mraise\u001b[0m \u001b[0mValueError\u001b[0m\u001b[0;34m(\u001b[0m\u001b[0;34m\"empty range for randrange() (%d,%d, %d)\"\u001b[0m \u001b[0;34m%\u001b[0m \u001b[0;34m(\u001b[0m\u001b[0mistart\u001b[0m\u001b[0;34m,\u001b[0m \u001b[0mistop\u001b[0m\u001b[0;34m,\u001b[0m \u001b[0mwidth\u001b[0m\u001b[0;34m)\u001b[0m\u001b[0;34m)\u001b[0m\u001b[0;34m\u001b[0m\u001b[0;34m\u001b[0m\u001b[0m\n\u001b[0m\u001b[1;32m    201\u001b[0m \u001b[0;34m\u001b[0m\u001b[0m\n\u001b[1;32m    202\u001b[0m         \u001b[0;31m# Non-unit step argument supplied.\u001b[0m\u001b[0;34m\u001b[0m\u001b[0;34m\u001b[0m\u001b[0;34m\u001b[0m\u001b[0m\n",
      "\u001b[0;31mValueError\u001b[0m: empty range for randrange() (1,1, 0)"
     ]
    }
   ],
   "metadata": {}
  }
 ],
 "metadata": {
  "orig_nbformat": 4,
  "language_info": {
   "name": "python",
   "version": "3.7.11",
   "mimetype": "text/x-python",
   "codemirror_mode": {
    "name": "ipython",
    "version": 3
   },
   "pygments_lexer": "ipython3",
   "nbconvert_exporter": "python",
   "file_extension": ".py"
  },
  "kernelspec": {
   "name": "python3",
   "display_name": "Python 3.7.11 64-bit ('KT_RL': conda)"
  },
  "interpreter": {
   "hash": "21abf45de893cf8bb84fa4ac94ca6bfffd7b0b9430f1af0a3b23bf50880d0935"
  }
 },
 "nbformat": 4,
 "nbformat_minor": 2
}