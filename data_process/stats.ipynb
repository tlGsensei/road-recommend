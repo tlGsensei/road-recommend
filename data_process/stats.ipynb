{
 "cells": [
  {
   "cell_type": "code",
   "execution_count": 2,
   "source": [
    "import pandas as pd\n",
    "\n",
    "java = pd.read_csv('java_mb_KG.txt',names=['userid','itemid','behavior','timestamp'],sep='\\t')\n",
    "java"
   ],
   "outputs": [
    {
     "output_type": "execute_result",
     "data": {
      "text/plain": [
       "      userid  itemid  behavior   timestamp\n",
       "0          1     305     watch  1406863244\n",
       "1          1     172      done  1410874261\n",
       "2          1      54      done  1410874265\n",
       "3          1      54  duration  1410874275\n",
       "4          1     314      done  1410913417\n",
       "...      ...     ...       ...         ...\n",
       "2489     183     294      done  1429083169\n",
       "2490     183     294       tag  1429083255\n",
       "2491     183     294  duration  1429083393\n",
       "2492     183     357      done  1429084813\n",
       "2493     183     357  duration  1429085601\n",
       "\n",
       "[2494 rows x 4 columns]"
      ],
      "text/html": [
       "<div>\n",
       "<style scoped>\n",
       "    .dataframe tbody tr th:only-of-type {\n",
       "        vertical-align: middle;\n",
       "    }\n",
       "\n",
       "    .dataframe tbody tr th {\n",
       "        vertical-align: top;\n",
       "    }\n",
       "\n",
       "    .dataframe thead th {\n",
       "        text-align: right;\n",
       "    }\n",
       "</style>\n",
       "<table border=\"1\" class=\"dataframe\">\n",
       "  <thead>\n",
       "    <tr style=\"text-align: right;\">\n",
       "      <th></th>\n",
       "      <th>userid</th>\n",
       "      <th>itemid</th>\n",
       "      <th>behavior</th>\n",
       "      <th>timestamp</th>\n",
       "    </tr>\n",
       "  </thead>\n",
       "  <tbody>\n",
       "    <tr>\n",
       "      <th>0</th>\n",
       "      <td>1</td>\n",
       "      <td>305</td>\n",
       "      <td>watch</td>\n",
       "      <td>1406863244</td>\n",
       "    </tr>\n",
       "    <tr>\n",
       "      <th>1</th>\n",
       "      <td>1</td>\n",
       "      <td>172</td>\n",
       "      <td>done</td>\n",
       "      <td>1410874261</td>\n",
       "    </tr>\n",
       "    <tr>\n",
       "      <th>2</th>\n",
       "      <td>1</td>\n",
       "      <td>54</td>\n",
       "      <td>done</td>\n",
       "      <td>1410874265</td>\n",
       "    </tr>\n",
       "    <tr>\n",
       "      <th>3</th>\n",
       "      <td>1</td>\n",
       "      <td>54</td>\n",
       "      <td>duration</td>\n",
       "      <td>1410874275</td>\n",
       "    </tr>\n",
       "    <tr>\n",
       "      <th>4</th>\n",
       "      <td>1</td>\n",
       "      <td>314</td>\n",
       "      <td>done</td>\n",
       "      <td>1410913417</td>\n",
       "    </tr>\n",
       "    <tr>\n",
       "      <th>...</th>\n",
       "      <td>...</td>\n",
       "      <td>...</td>\n",
       "      <td>...</td>\n",
       "      <td>...</td>\n",
       "    </tr>\n",
       "    <tr>\n",
       "      <th>2489</th>\n",
       "      <td>183</td>\n",
       "      <td>294</td>\n",
       "      <td>done</td>\n",
       "      <td>1429083169</td>\n",
       "    </tr>\n",
       "    <tr>\n",
       "      <th>2490</th>\n",
       "      <td>183</td>\n",
       "      <td>294</td>\n",
       "      <td>tag</td>\n",
       "      <td>1429083255</td>\n",
       "    </tr>\n",
       "    <tr>\n",
       "      <th>2491</th>\n",
       "      <td>183</td>\n",
       "      <td>294</td>\n",
       "      <td>duration</td>\n",
       "      <td>1429083393</td>\n",
       "    </tr>\n",
       "    <tr>\n",
       "      <th>2492</th>\n",
       "      <td>183</td>\n",
       "      <td>357</td>\n",
       "      <td>done</td>\n",
       "      <td>1429084813</td>\n",
       "    </tr>\n",
       "    <tr>\n",
       "      <th>2493</th>\n",
       "      <td>183</td>\n",
       "      <td>357</td>\n",
       "      <td>duration</td>\n",
       "      <td>1429085601</td>\n",
       "    </tr>\n",
       "  </tbody>\n",
       "</table>\n",
       "<p>2494 rows × 4 columns</p>\n",
       "</div>"
      ]
     },
     "metadata": {},
     "execution_count": 2
    }
   ],
   "metadata": {}
  },
  {
   "cell_type": "code",
   "execution_count": 12,
   "source": [
    "java_count = java.groupby('userid').count().reset_index()[['userid','itemid']]\n",
    "java_count['itemid'].describe()"
   ],
   "outputs": [
    {
     "output_type": "execute_result",
     "data": {
      "text/plain": [
       "count    183.000000\n",
       "mean      13.628415\n",
       "std       17.364029\n",
       "min        4.000000\n",
       "25%        4.000000\n",
       "50%        6.000000\n",
       "75%       17.000000\n",
       "max      132.000000\n",
       "Name: itemid, dtype: float64"
      ]
     },
     "metadata": {},
     "execution_count": 12
    }
   ],
   "metadata": {}
  },
  {
   "cell_type": "code",
   "execution_count": 13,
   "source": [
    "net = pd.read_csv('net_mb_KG.txt',names=['userid','itemid','behavior','timestamp'],sep='\\t')\n",
    "net_count = net.groupby('userid').count().reset_index()[['userid','itemid']]\n",
    "net_count['itemid'].describe()"
   ],
   "outputs": [
    {
     "output_type": "execute_result",
     "data": {
      "text/plain": [
       "count    246.000000\n",
       "mean      14.617886\n",
       "std       16.176587\n",
       "min        4.000000\n",
       "25%        4.000000\n",
       "50%        7.000000\n",
       "75%       20.000000\n",
       "max      122.000000\n",
       "Name: itemid, dtype: float64"
      ]
     },
     "metadata": {},
     "execution_count": 13
    }
   ],
   "metadata": {}
  },
  {
   "cell_type": "code",
   "execution_count": 16,
   "source": [
    "os = pd.read_csv('os_mb_KG.txt',names=['userid','itemid','behavior','timestamp'],sep='\\t')\n",
    "os_count = os.groupby('userid').count().reset_index()[['userid','itemid']]\n",
    "os_count['itemid'].describe()"
   ],
   "outputs": [
    {
     "output_type": "execute_result",
     "data": {
      "text/plain": [
       "count    305.000000\n",
       "mean      15.409836\n",
       "std       20.578937\n",
       "min        4.000000\n",
       "25%        4.000000\n",
       "50%        7.000000\n",
       "75%       18.000000\n",
       "max      199.000000\n",
       "Name: itemid, dtype: float64"
      ]
     },
     "metadata": {},
     "execution_count": 16
    }
   ],
   "metadata": {}
  },
  {
   "cell_type": "code",
   "execution_count": 20,
   "source": [
    "c_class = pd.read_csv('/workspace/mdls_test/pytorch/RecBole/dataset/c_class/c_class.inter',header=0,sep='\\t')\n",
    "c_class_count = c_class.groupby('user_id:token').count().reset_index()[['user_id:token','item_id:token']]\n",
    "c_class_count['item_id:token'].describe()"
   ],
   "outputs": [
    {
     "output_type": "execute_result",
     "data": {
      "text/plain": [
       "count    42586.000000\n",
       "mean        34.263819\n",
       "std         26.310418\n",
       "min          1.000000\n",
       "25%         15.000000\n",
       "50%         30.000000\n",
       "75%         46.000000\n",
       "max        175.000000\n",
       "Name: item_id:token, dtype: float64"
      ]
     },
     "metadata": {},
     "execution_count": 20
    }
   ],
   "metadata": {}
  },
  {
   "cell_type": "code",
   "execution_count": 21,
   "source": [
    "computer = pd.read_csv('/workspace/mdls_test/pytorch/RecBole/dataset/computer/computer.inter',header=0,sep='\\t')\n",
    "computer_count = computer.groupby('user_id:token').count().reset_index()[['user_id:token','item_id:token']]\n",
    "computer_count['item_id:token'].describe()"
   ],
   "outputs": [
    {
     "output_type": "execute_result",
     "data": {
      "text/plain": [
       "count    33463.000000\n",
       "mean        20.569853\n",
       "std         14.691086\n",
       "min          1.000000\n",
       "25%          9.000000\n",
       "50%         15.000000\n",
       "75%         29.000000\n",
       "max        114.000000\n",
       "Name: item_id:token, dtype: float64"
      ]
     },
     "metadata": {},
     "execution_count": 21
    }
   ],
   "metadata": {}
  },
  {
   "cell_type": "code",
   "execution_count": 22,
   "source": [
    "data_sci = pd.read_csv('/workspace/mdls_test/pytorch/RecBole/dataset/data_science/data_science.inter',header=0,sep='\\t')\n",
    "data_sci_count = data_sci.groupby('user_id:token').count().reset_index()[['user_id:token','item_id:token']]\n",
    "data_sci_count['item_id:token'].describe()"
   ],
   "outputs": [
    {
     "output_type": "execute_result",
     "data": {
      "text/plain": [
       "count    8741.000000\n",
       "mean       14.903787\n",
       "std        14.190676\n",
       "min         1.000000\n",
       "25%         3.000000\n",
       "50%        10.000000\n",
       "75%        25.000000\n",
       "max        87.000000\n",
       "Name: item_id:token, dtype: float64"
      ]
     },
     "metadata": {},
     "execution_count": 22
    }
   ],
   "metadata": {}
  }
 ],
 "metadata": {
  "orig_nbformat": 4,
  "language_info": {
   "name": "python",
   "version": "3.7.11",
   "mimetype": "text/x-python",
   "codemirror_mode": {
    "name": "ipython",
    "version": 3
   },
   "pygments_lexer": "ipython3",
   "nbconvert_exporter": "python",
   "file_extension": ".py"
  },
  "kernelspec": {
   "name": "python3",
   "display_name": "Python 3.7.11 64-bit ('KT_RL': conda)"
  },
  "interpreter": {
   "hash": "21abf45de893cf8bb84fa4ac94ca6bfffd7b0b9430f1af0a3b23bf50880d0935"
  }
 },
 "nbformat": 4,
 "nbformat_minor": 2
}