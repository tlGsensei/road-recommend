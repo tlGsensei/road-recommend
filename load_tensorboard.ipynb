{
 "cells": [
  {
   "cell_type": "code",
   "execution_count": null,
   "source": [
    "# start tensorboard\n",
    "%load_ext tensorboard\n",
    "\n",
    "%tensorboard --logdir wangyuan/java_full/lightning_logs/"
   ],
   "outputs": [],
   "metadata": {}
  },
  {
   "cell_type": "code",
   "execution_count": 4,
   "source": [
    "import torch\n",
    "transe = torch.load('/workspace/mdls_test/eassy/pre-train/OpenKE/checkpoint/java/transe.ckpt')\n",
    "transe"
   ],
   "outputs": [
    {
     "output_type": "execute_result",
     "data": {
      "text/plain": [
       "OrderedDict([('zero_const', tensor([0.], device='cuda:0')),\n",
       "             ('pi_const', tensor([3.1416], device='cuda:0')),\n",
       "             ('ent_embeddings.weight',\n",
       "              tensor([[ 0.2693,  0.3273,  0.1524,  ...,  0.1086, -0.2531,  0.0861],\n",
       "                      [ 0.3260, -0.0813, -0.0642,  ..., -0.2758,  0.5135, -1.3282],\n",
       "                      [ 0.2447,  0.1736, -0.0785,  ...,  0.0138, -0.4062, -0.0084],\n",
       "                      ...,\n",
       "                      [-0.7425, -0.4751, -0.8410,  ..., -0.1599, -0.4031,  0.5348],\n",
       "                      [ 0.1999,  0.2668, -0.0667,  ...,  0.1732, -0.3099,  0.1350],\n",
       "                      [ 0.2760,  0.1961, -0.0690,  ..., -0.1305, -0.4291,  0.1520]],\n",
       "                     device='cuda:0')),\n",
       "             ('rel_embeddings.weight',\n",
       "              tensor([[ 5.5963e-01,  5.5487e-01,  3.1581e-01, -2.4387e-01,  4.7716e-01,\n",
       "                       -1.2484e-02, -3.2437e-01,  5.5107e-01,  3.9929e-01, -2.7913e-01,\n",
       "                       -3.5893e-01,  3.3552e-01, -1.0660e-01,  4.0611e-01, -5.1637e-01,\n",
       "                        4.0784e-01],\n",
       "                      [-1.2446e-02,  4.8513e-03,  1.0578e-02, -2.6439e+00, -5.0030e-02,\n",
       "                       -1.0281e-02,  4.5962e-02, -3.1508e+00, -9.4066e-03, -1.4891e-02,\n",
       "                        4.1709e-01, -3.5879e-02, -1.6204e-01, -1.1222e-02, -2.0390e-01,\n",
       "                       -4.3545e+00],\n",
       "                      [ 1.4562e-02, -5.1060e-03, -1.6505e-02, -1.1707e+00, -4.3820e-03,\n",
       "                        2.9981e-02,  1.9294e-01, -2.2345e+00, -4.5702e-02,  1.0707e-02,\n",
       "                        1.7908e-01,  4.3351e-02, -5.3450e+00,  9.6047e-03, -1.5773e-01,\n",
       "                        1.1447e+00]], device='cuda:0'))])"
      ]
     },
     "metadata": {},
     "execution_count": 4
    }
   ],
   "metadata": {}
  },
  {
   "cell_type": "code",
   "execution_count": 5,
   "source": [
    "transe['ent_embeddings.weight'].shape"
   ],
   "outputs": [
    {
     "output_type": "execute_result",
     "data": {
      "text/plain": [
       "torch.Size([365, 16])"
      ]
     },
     "metadata": {},
     "execution_count": 5
    }
   ],
   "metadata": {}
  },
  {
   "cell_type": "markdown",
   "source": [
    "1. 将java课程知识图谱的id与交互记录中的id对齐\n",
    "2. 导入模型中"
   ],
   "metadata": {}
  },
  {
   "cell_type": "markdown",
   "source": [
    "0  transe模型初始化embedding，更新\n",
    "1  init梯度清零，并正态分布初始化embedding\n",
    "2  非init梯度清零，并正态分布初始化embedding\n",
    "3  transe模型初始化embedding，更新，init梯度清零，不带padding\n",
    "4  transe模型初始化embedding，更新，init梯度清零，带padding\n",
    "5  transe模型初始化embedding，更新，init梯度清零，加入相似度计算，使用RelativePositionBiaswithSimilarity\n",
    "6  transe模型初始化embedding，更新，init梯度清零，不带padding，加入相似度计算，使用RelativePositionBiaswithSimilarity\n",
    "\n",
    "8  transe模型初始化embedding，更新，自制梯度清零，不带padding, 复刻了3\n",
    "9  transe模型初始化embedding，更新，init梯度清零，不带padding，复刻了4\n",
    "10 transe模型初始化embedding，更新，init梯度清零，带padding，同9\n",
    "\n",
    "11 transe模型初始化embedding，更新，自制梯度清零，不带padding，加入相似度计算，使用RelativePositionBiaswithSimilarity\n",
    "12 transe模型初始化embedding，更新，init梯度清零，不带padding，加入相似度计算，使用RelativePositionBiaswithSimilarity\n",
    "13 transe模型初始化embedding，更新，init梯度清零，不带padding，去掉相对位置分数，替换为相似度分数\n",
    "14 transe模型初始化embedding，更新，自制梯度清零，不带padding，去掉相对位置分数，替换为相似度分数\n",
    "15 transe模型初始化embedding，更新，自制梯度清零，不带padding，去掉相对位置分数, brpb=False\n",
    "\n",
    "16 transd模型初始化embedding，更新，自制梯度清零，不带padding，去掉相对位置分数, brpb=False\n",
    "17 transd模型初始化embedding，更新，自制梯度清零，不带padding\n",
    "\n",
    "18 transe模型初始化embedding，更新，自制梯度清零，不带padding，使用tanse预训练embedding的相似度与相对位置分数一起TransformerBlockwithSim\n",
    "19 transe模型初始化embedding，更新，自制梯度清零，不带padding，使用transe预训练embedding的相似度TransformerBlockwithSim\n",
    "\n",
    "20 transe模型初始化embedding，更新，自制梯度清零，不带padding，使用tansed预训练embedding的相似度TransformerBlockwithSim\n",
    "21 transe模型初始化embedding，更新，自制梯度清零，不带padding，使用tanseh预训练embedding的相似度TransformerBlockwithSim\n",
    "21 transe模型初始化embedding，更新，自制梯度清零，不带padding，使用tansed预训练embedding的相似度与相对位置分数一起TransformerBlockwithSim"
   ],
   "metadata": {}
  },
  {
   "cell_type": "markdown",
   "source": [
    "enhance java\n",
    "0 transe模型初始化embedding，更新，自制梯度清零，不带padding，使用transd预训练embedding的相似度与相对位置分数一起TransformerBlockwithSim\n",
    "1 transe模型初始化embedding，更新，自制梯度清零，不带padding，使用transe预训练embedding的相似度与相对位置分数一起TransformerBlockwithSim\n",
    "2 transe模型初始化embedding，更新，自制梯度清零，不带padding，使用正常TransformerBlock"
   ],
   "metadata": {}
  },
  {
   "cell_type": "code",
   "execution_count": null,
   "source": [],
   "outputs": [],
   "metadata": {}
  }
 ],
 "metadata": {
  "orig_nbformat": 4,
  "language_info": {
   "name": "python",
   "version": "3.7.11",
   "mimetype": "text/x-python",
   "codemirror_mode": {
    "name": "ipython",
    "version": 3
   },
   "pygments_lexer": "ipython3",
   "nbconvert_exporter": "python",
   "file_extension": ".py"
  },
  "kernelspec": {
   "name": "python3",
   "display_name": "Python 3.7.11 64-bit ('KT_RL': conda)"
  },
  "interpreter": {
   "hash": "21abf45de893cf8bb84fa4ac94ca6bfffd7b0b9430f1af0a3b23bf50880d0935"
  }
 },
 "nbformat": 4,
 "nbformat_minor": 2
}